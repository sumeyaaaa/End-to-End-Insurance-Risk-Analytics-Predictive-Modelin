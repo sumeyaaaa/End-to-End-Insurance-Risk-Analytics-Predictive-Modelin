{
  "nbformat": 4,
  "nbformat_minor": 0,
  "metadata": {
    "colab": {
      "provenance": []
    },
    "kernelspec": {
      "name": "python3",
      "display_name": "Python 3"
    },
    "language_info": {
      "name": "python"
    }
  },
  "cells": [
    {
      "cell_type": "code",
      "execution_count": 1,
      "metadata": {
        "colab": {
          "base_uri": "https://localhost:8080/",
          "height": 73
        },
        "id": "Sh6SIShG7JjR",
        "outputId": "1bb39ed9-4515-4b1c-8a28-9361b39e8c34"
      },
      "outputs": [
        {
          "output_type": "display_data",
          "data": {
            "text/plain": [
              "<IPython.core.display.HTML object>"
            ],
            "text/html": [
              "\n",
              "     <input type=\"file\" id=\"files-9a030af8-1ae7-4165-bb8d-5c827a182795\" name=\"files[]\" multiple disabled\n",
              "        style=\"border:none\" />\n",
              "     <output id=\"result-9a030af8-1ae7-4165-bb8d-5c827a182795\">\n",
              "      Upload widget is only available when the cell has been executed in the\n",
              "      current browser session. Please rerun this cell to enable.\n",
              "      </output>\n",
              "      <script>// Copyright 2017 Google LLC\n",
              "//\n",
              "// Licensed under the Apache License, Version 2.0 (the \"License\");\n",
              "// you may not use this file except in compliance with the License.\n",
              "// You may obtain a copy of the License at\n",
              "//\n",
              "//      http://www.apache.org/licenses/LICENSE-2.0\n",
              "//\n",
              "// Unless required by applicable law or agreed to in writing, software\n",
              "// distributed under the License is distributed on an \"AS IS\" BASIS,\n",
              "// WITHOUT WARRANTIES OR CONDITIONS OF ANY KIND, either express or implied.\n",
              "// See the License for the specific language governing permissions and\n",
              "// limitations under the License.\n",
              "\n",
              "/**\n",
              " * @fileoverview Helpers for google.colab Python module.\n",
              " */\n",
              "(function(scope) {\n",
              "function span(text, styleAttributes = {}) {\n",
              "  const element = document.createElement('span');\n",
              "  element.textContent = text;\n",
              "  for (const key of Object.keys(styleAttributes)) {\n",
              "    element.style[key] = styleAttributes[key];\n",
              "  }\n",
              "  return element;\n",
              "}\n",
              "\n",
              "// Max number of bytes which will be uploaded at a time.\n",
              "const MAX_PAYLOAD_SIZE = 100 * 1024;\n",
              "\n",
              "function _uploadFiles(inputId, outputId) {\n",
              "  const steps = uploadFilesStep(inputId, outputId);\n",
              "  const outputElement = document.getElementById(outputId);\n",
              "  // Cache steps on the outputElement to make it available for the next call\n",
              "  // to uploadFilesContinue from Python.\n",
              "  outputElement.steps = steps;\n",
              "\n",
              "  return _uploadFilesContinue(outputId);\n",
              "}\n",
              "\n",
              "// This is roughly an async generator (not supported in the browser yet),\n",
              "// where there are multiple asynchronous steps and the Python side is going\n",
              "// to poll for completion of each step.\n",
              "// This uses a Promise to block the python side on completion of each step,\n",
              "// then passes the result of the previous step as the input to the next step.\n",
              "function _uploadFilesContinue(outputId) {\n",
              "  const outputElement = document.getElementById(outputId);\n",
              "  const steps = outputElement.steps;\n",
              "\n",
              "  const next = steps.next(outputElement.lastPromiseValue);\n",
              "  return Promise.resolve(next.value.promise).then((value) => {\n",
              "    // Cache the last promise value to make it available to the next\n",
              "    // step of the generator.\n",
              "    outputElement.lastPromiseValue = value;\n",
              "    return next.value.response;\n",
              "  });\n",
              "}\n",
              "\n",
              "/**\n",
              " * Generator function which is called between each async step of the upload\n",
              " * process.\n",
              " * @param {string} inputId Element ID of the input file picker element.\n",
              " * @param {string} outputId Element ID of the output display.\n",
              " * @return {!Iterable<!Object>} Iterable of next steps.\n",
              " */\n",
              "function* uploadFilesStep(inputId, outputId) {\n",
              "  const inputElement = document.getElementById(inputId);\n",
              "  inputElement.disabled = false;\n",
              "\n",
              "  const outputElement = document.getElementById(outputId);\n",
              "  outputElement.innerHTML = '';\n",
              "\n",
              "  const pickedPromise = new Promise((resolve) => {\n",
              "    inputElement.addEventListener('change', (e) => {\n",
              "      resolve(e.target.files);\n",
              "    });\n",
              "  });\n",
              "\n",
              "  const cancel = document.createElement('button');\n",
              "  inputElement.parentElement.appendChild(cancel);\n",
              "  cancel.textContent = 'Cancel upload';\n",
              "  const cancelPromise = new Promise((resolve) => {\n",
              "    cancel.onclick = () => {\n",
              "      resolve(null);\n",
              "    };\n",
              "  });\n",
              "\n",
              "  // Wait for the user to pick the files.\n",
              "  const files = yield {\n",
              "    promise: Promise.race([pickedPromise, cancelPromise]),\n",
              "    response: {\n",
              "      action: 'starting',\n",
              "    }\n",
              "  };\n",
              "\n",
              "  cancel.remove();\n",
              "\n",
              "  // Disable the input element since further picks are not allowed.\n",
              "  inputElement.disabled = true;\n",
              "\n",
              "  if (!files) {\n",
              "    return {\n",
              "      response: {\n",
              "        action: 'complete',\n",
              "      }\n",
              "    };\n",
              "  }\n",
              "\n",
              "  for (const file of files) {\n",
              "    const li = document.createElement('li');\n",
              "    li.append(span(file.name, {fontWeight: 'bold'}));\n",
              "    li.append(span(\n",
              "        `(${file.type || 'n/a'}) - ${file.size} bytes, ` +\n",
              "        `last modified: ${\n",
              "            file.lastModifiedDate ? file.lastModifiedDate.toLocaleDateString() :\n",
              "                                    'n/a'} - `));\n",
              "    const percent = span('0% done');\n",
              "    li.appendChild(percent);\n",
              "\n",
              "    outputElement.appendChild(li);\n",
              "\n",
              "    const fileDataPromise = new Promise((resolve) => {\n",
              "      const reader = new FileReader();\n",
              "      reader.onload = (e) => {\n",
              "        resolve(e.target.result);\n",
              "      };\n",
              "      reader.readAsArrayBuffer(file);\n",
              "    });\n",
              "    // Wait for the data to be ready.\n",
              "    let fileData = yield {\n",
              "      promise: fileDataPromise,\n",
              "      response: {\n",
              "        action: 'continue',\n",
              "      }\n",
              "    };\n",
              "\n",
              "    // Use a chunked sending to avoid message size limits. See b/62115660.\n",
              "    let position = 0;\n",
              "    do {\n",
              "      const length = Math.min(fileData.byteLength - position, MAX_PAYLOAD_SIZE);\n",
              "      const chunk = new Uint8Array(fileData, position, length);\n",
              "      position += length;\n",
              "\n",
              "      const base64 = btoa(String.fromCharCode.apply(null, chunk));\n",
              "      yield {\n",
              "        response: {\n",
              "          action: 'append',\n",
              "          file: file.name,\n",
              "          data: base64,\n",
              "        },\n",
              "      };\n",
              "\n",
              "      let percentDone = fileData.byteLength === 0 ?\n",
              "          100 :\n",
              "          Math.round((position / fileData.byteLength) * 100);\n",
              "      percent.textContent = `${percentDone}% done`;\n",
              "\n",
              "    } while (position < fileData.byteLength);\n",
              "  }\n",
              "\n",
              "  // All done.\n",
              "  yield {\n",
              "    response: {\n",
              "      action: 'complete',\n",
              "    }\n",
              "  };\n",
              "}\n",
              "\n",
              "scope.google = scope.google || {};\n",
              "scope.google.colab = scope.google.colab || {};\n",
              "scope.google.colab._files = {\n",
              "  _uploadFiles,\n",
              "  _uploadFilesContinue,\n",
              "};\n",
              "})(self);\n",
              "</script> "
            ]
          },
          "metadata": {}
        },
        {
          "output_type": "stream",
          "name": "stdout",
          "text": [
            "Saving insurance_cleaned_final.csv to insurance_cleaned_final.csv\n"
          ]
        }
      ],
      "source": [
        "from google.colab import files\n",
        "uploaded = files.upload()\n"
      ]
    },
    {
      "cell_type": "code",
      "source": [],
      "metadata": {
        "id": "mUMQtl1RutGV"
      },
      "execution_count": null,
      "outputs": []
    },
    {
      "cell_type": "code",
      "source": [
        "import pandas as pd\n",
        "\n",
        "df = pd.read_csv('insurance_cleaned_final.csv')\n"
      ],
      "metadata": {
        "colab": {
          "base_uri": "https://localhost:8080/"
        },
        "id": "CTyj3Zsj8Pht",
        "outputId": "3707f595-20ef-4b00-d6f9-8a83ca9ff8eb"
      },
      "execution_count": 70,
      "outputs": [
        {
          "output_type": "stream",
          "name": "stderr",
          "text": [
            "<ipython-input-70-3684667061>:3: DtypeWarning: Columns (32) have mixed types. Specify dtype option on import or set low_memory=False.\n",
            "  df = pd.read_csv('insurance_cleaned_final.csv')\n"
          ]
        }
      ]
    },
    {
      "cell_type": "code",
      "source": [
        "cap = df['TotalClaims'].quantile(0.99)\n",
        "df['TotalClaims'] = np.where(df['TotalClaims'] > cap, cap, df['TotalClaims'])\n"
      ],
      "metadata": {
        "id": "A8UoRUMESaXy"
      },
      "execution_count": 71,
      "outputs": []
    },
    {
      "cell_type": "code",
      "source": [
        "null_counts = df.isnull().sum()\n",
        "null_columns = null_counts[null_counts > 0]\n",
        "print(null_columns)\n"
      ],
      "metadata": {
        "colab": {
          "base_uri": "https://localhost:8080/"
        },
        "id": "WWh6SI-Auv0-",
        "outputId": "4b557049-559a-49e7-b32a-24e34679938c"
      },
      "execution_count": 72,
      "outputs": [
        {
          "output_type": "stream",
          "name": "stdout",
          "text": [
            "Series([], dtype: int64)\n"
          ]
        }
      ]
    },
    {
      "cell_type": "code",
      "source": [
        "null_counts = df.isnull().sum()\n",
        "null_columns = null_counts[null_counts > 0]\n",
        "print(null_columns)"
      ],
      "metadata": {
        "colab": {
          "base_uri": "https://localhost:8080/"
        },
        "id": "gkdop99vvT_R",
        "outputId": "edeeb45b-7283-4c6f-9e3a-9d9f460d153c"
      },
      "execution_count": 74,
      "outputs": [
        {
          "output_type": "stream",
          "name": "stdout",
          "text": [
            "Series([], dtype: int64)\n"
          ]
        }
      ]
    },
    {
      "cell_type": "code",
      "source": [
        "onehot_columns = [\n",
        "    'Bank', 'AccountType', 'Gender', 'Title', 'LegalType',\n",
        "    'PostalCode', 'SubCrestaZone', 'MainCrestaZone',\n",
        "    'bodytype', 'TrackingDevice',\n",
        "    'Top_Model'\n",
        "]\n"
      ],
      "metadata": {
        "id": "tEtyjfw27blp"
      },
      "execution_count": 75,
      "outputs": []
    },
    {
      "cell_type": "code",
      "source": [
        "numeric_columns = [\n",
        "    'CustomValueEstimate', 'CapitalOutstanding', 'cubiccapacity', 'kilowatts',\n",
        "    'loss_ratio', 'excess_ratio', 'HasClaim'\n",
        "]\n"
      ],
      "metadata": {
        "id": "JwGe_vOy7tb6"
      },
      "execution_count": 76,
      "outputs": []
    },
    {
      "cell_type": "code",
      "source": [
        "df['loss_ratio'] = df.apply(\n",
        "    lambda row: row['TotalClaims'] / row['TotalPremium'] if row['TotalPremium'] > 0 else 0,\n",
        "    axis=1\n",
        ")\n"
      ],
      "metadata": {
        "id": "uiEmrC7qASDw"
      },
      "execution_count": 77,
      "outputs": []
    },
    {
      "cell_type": "code",
      "source": [
        "import numpy as np\n",
        "import re\n",
        "\n",
        "def extract_excess(value):\n",
        "    if isinstance(value, str):\n",
        "        if 'No excess' in value:\n",
        "            return 0\n",
        "        match = re.search(r'R\\s?(\\d[\\d\\s]*)', value)\n",
        "        if match:\n",
        "            return int(match.group(1).replace(' ', ''))\n",
        "    return np.nan\n",
        "\n",
        "df['ExcessAmount'] = df['ExcessSelected'].apply(extract_excess)\n"
      ],
      "metadata": {
        "id": "lw0DfdTFAUdl"
      },
      "execution_count": 79,
      "outputs": []
    },
    {
      "cell_type": "code",
      "source": [
        "df['excess_ratio'] = df.apply(\n",
        "    lambda row: row['ExcessAmount'] / row['SumInsured'] if row['SumInsured'] > 0 else 0,\n",
        "    axis=1\n",
        ")\n"
      ],
      "metadata": {
        "id": "NlSMZRThAh_W"
      },
      "execution_count": 80,
      "outputs": []
    },
    {
      "cell_type": "code",
      "source": [
        "import pandas as pd\n",
        "\n",
        "# Top model: reduce cardinality\n",
        "top_models = df['Top_Model'].value_counts().nlargest(15).index\n",
        "df['Top_Model_Grouped'] = df['Top_Model'].where(df['Top_Model'].isin(top_models), 'OTHER')\n",
        "\n",
        "# Combine all for encoding\n",
        "features_to_encode = onehot_columns\n",
        "df_encoded = pd.get_dummies(df[features_to_encode], drop_first=True)\n",
        "\n",
        "# Combine with numeric columns\n",
        "df_model_ready = pd.concat([df[numeric_columns], df_encoded], axis=1)\n",
        "\n",
        "# Final shape check\n",
        "print(\"Final encoded dataset shape:\", df_model_ready.shape)\n"
      ],
      "metadata": {
        "colab": {
          "base_uri": "https://localhost:8080/"
        },
        "id": "VAGX5QSF7xtt",
        "outputId": "b2cc8edd-078d-4d1b-bbc5-3dcf9680f209"
      },
      "execution_count": 81,
      "outputs": [
        {
          "output_type": "stream",
          "name": "stdout",
          "text": [
            "Final encoded dataset shape: (220456, 260)\n"
          ]
        }
      ]
    },
    {
      "cell_type": "code",
      "source": [
        "def clean_and_convert(series):\n",
        "    return pd.to_numeric(\n",
        "        series.astype(str)\n",
        "              .str.replace('.', '', regex=False)  # remove thousands sep\n",
        "              .str.replace(',', '.', regex=False),  # decimal comma to dot\n",
        "        errors='coerce'\n",
        "    )\n",
        "\n",
        "# Apply to each numeric column\n",
        "for col in numeric_columns:\n",
        "    df_model_ready[col] = clean_and_convert(df_model_ready[col])\n",
        "\n"
      ],
      "metadata": {
        "id": "ibehmwhmBsKx"
      },
      "execution_count": 82,
      "outputs": []
    },
    {
      "cell_type": "code",
      "source": [
        "print(df_model_ready[numeric_columns].dtypes)\n"
      ],
      "metadata": {
        "colab": {
          "base_uri": "https://localhost:8080/"
        },
        "id": "qFSzpm0RCOQa",
        "outputId": "48acf1f1-d03c-4816-bea9-db9961da8139"
      },
      "execution_count": 83,
      "outputs": [
        {
          "output_type": "stream",
          "name": "stdout",
          "text": [
            "CustomValueEstimate      int64\n",
            "CapitalOutstanding     float64\n",
            "cubiccapacity            int64\n",
            "kilowatts                int64\n",
            "loss_ratio               int64\n",
            "excess_ratio           float64\n",
            "HasClaim               float64\n",
            "dtype: object\n"
          ]
        }
      ]
    },
    {
      "cell_type": "code",
      "source": [
        "non_numeric_cols = df_model_ready.select_dtypes(exclude=['number']).columns\n",
        "print(non_numeric_cols)\n"
      ],
      "metadata": {
        "colab": {
          "base_uri": "https://localhost:8080/"
        },
        "id": "OrWPzAjdCcN-",
        "outputId": "53a5b122-c60d-4abf-d7e7-db340b5cb258"
      },
      "execution_count": 84,
      "outputs": [
        {
          "output_type": "stream",
          "name": "stdout",
          "text": [
            "Index(['Bank_Capitec Bank', 'Bank_First National Bank', 'Bank_FirstRand Bank',\n",
            "       'Bank_Investec Bank', 'Bank_Ithala Bank', 'Bank_Nedbank',\n",
            "       'Bank_RMB Private Bank', 'Bank_Standard Bank', 'Bank_Unknown',\n",
            "       'AccountType_Savings account',\n",
            "       ...\n",
            "       'Top_Model_VOLKSWAGEN MICROBUS 2.3 P/S',\n",
            "       'Top_Model_VOLKSWAGEN MICROBUS 2.6i P/S A/C',\n",
            "       'Top_Model_VOLKSWAGEN MICROBUS EXCLUSIVE 2.6',\n",
            "       'Top_Model_VOLKSWAGEN POLO 1.6 COMFORTLINE',\n",
            "       'Top_Model_VOLKSWAGEN POLO 1.6 COMFORTLINE 5DR',\n",
            "       'Top_Model_VOLKSWAGEN T4 2.5 TDi HIGHLINE',\n",
            "       'Top_Model_VOLKSWAGEN T5 CARAVELLE 2.5TDi 128kw',\n",
            "       'Top_Model_VOLKSWAGEN T5 KOMBI 2.0 TDi LWB (75KW) BASE',\n",
            "       'Top_Model_VOLKSWAGEN TOUAREG 5.0 V10 TDI TIP',\n",
            "       'Top_Model_VOLKSWAGEN TRANSPORTER T5 2.0 TDi LWB 103 KW F/C P/V'],\n",
            "      dtype='object', length=252)\n"
          ]
        }
      ]
    },
    {
      "cell_type": "code",
      "source": [
        "for col in df_model_ready.columns:\n",
        "    df_model_ready[col] = pd.to_numeric(\n",
        "        df_model_ready[col]\n",
        "        .astype(str)\n",
        "        .str.replace('.', '', regex=False)\n",
        "        .str.replace(',', '.', regex=False),\n",
        "        errors='coerce'\n",
        "    )\n"
      ],
      "metadata": {
        "id": "10KFD5goCqSd"
      },
      "execution_count": 85,
      "outputs": []
    },
    {
      "cell_type": "code",
      "source": [
        "print(df_model_ready.dtypes.value_counts())\n"
      ],
      "metadata": {
        "colab": {
          "base_uri": "https://localhost:8080/"
        },
        "id": "H3u8BA6eDcYB",
        "outputId": "55d1e1da-9ca5-43d7-ebff-0b610d4eb62f"
      },
      "execution_count": 86,
      "outputs": [
        {
          "output_type": "stream",
          "name": "stdout",
          "text": [
            "float64    254\n",
            "int64        6\n",
            "Name: count, dtype: int64\n"
          ]
        }
      ]
    },
    {
      "cell_type": "code",
      "source": [
        "bool_cols = df_model_ready.select_dtypes(include='bool').columns\n",
        "df_model_ready[bool_cols] = df_model_ready[bool_cols].astype(float)\n"
      ],
      "metadata": {
        "id": "edhH8JRTDn5J"
      },
      "execution_count": 87,
      "outputs": []
    },
    {
      "cell_type": "code",
      "source": [
        "df_model_ready['CapitalOutstanding'] = pd.to_numeric(\n",
        "    df_model_ready['CapitalOutstanding']\n",
        "        .astype(str)\n",
        "        .str.replace('.', '', regex=False)\n",
        "        .str.replace(',', '.', regex=False),\n",
        "    errors='coerce'\n",
        ")\n"
      ],
      "metadata": {
        "id": "VVuoYdybDxtI"
      },
      "execution_count": 88,
      "outputs": []
    },
    {
      "cell_type": "code",
      "source": [
        "print(df_model_ready.dtypes.value_counts())\n"
      ],
      "metadata": {
        "colab": {
          "base_uri": "https://localhost:8080/"
        },
        "id": "AI4HfHyYEJQm",
        "outputId": "412b6fa7-6e3c-4c46-f2fd-a362227417b8"
      },
      "execution_count": 89,
      "outputs": [
        {
          "output_type": "stream",
          "name": "stdout",
          "text": [
            "float64    254\n",
            "int64        6\n",
            "Name: count, dtype: int64\n"
          ]
        }
      ]
    },
    {
      "cell_type": "code",
      "source": [
        "# Combine all columns\n",
        "df_model_ready = pd.concat([df[numeric_columns], pd.get_dummies(df[onehot_columns], drop_first=True)], axis=1)\n",
        "\n",
        "# Convert all to numeric (just in case)\n",
        "df_model_ready = df_model_ready.apply(pd.to_numeric, errors='coerce')\n",
        "\n",
        "\n",
        "\n",
        "# Confirm final shape and types\n",
        "print(\"Final shape:\", df_model_ready.shape)\n",
        "print(\"Non-numeric columns:\", df_model_ready.select_dtypes(exclude=['number']).columns.tolist())\n",
        "print(\"Remaining NaNs:\", df_model_ready.isnull().sum().sum())\n"
      ],
      "metadata": {
        "colab": {
          "base_uri": "https://localhost:8080/"
        },
        "id": "VLRYIJlI8d6-",
        "outputId": "dbfa245b-be2d-4870-f541-40abdeb84f0b"
      },
      "execution_count": 90,
      "outputs": [
        {
          "output_type": "stream",
          "name": "stdout",
          "text": [
            "Final shape: (220456, 260)\n",
            "Non-numeric columns: ['HasClaim', 'Bank_Capitec Bank', 'Bank_First National Bank', 'Bank_FirstRand Bank', 'Bank_Investec Bank', 'Bank_Ithala Bank', 'Bank_Nedbank', 'Bank_RMB Private Bank', 'Bank_Standard Bank', 'Bank_Unknown', 'AccountType_Savings account', 'AccountType_Transmission account', 'Gender_Male', 'Gender_Not specified', 'Title_Mr', 'Title_Mrs', 'Title_Ms', 'LegalType_Individual', 'LegalType_Private company', 'LegalType_Public company', 'LegalType_Sole proprieter', 'SubCrestaZone_Bushveld', 'SubCrestaZone_Cape Mid 1', 'SubCrestaZone_Cape Mid West', 'SubCrestaZone_Cape Town', 'SubCrestaZone_Ciskei', 'SubCrestaZone_Coast 1', 'SubCrestaZone_Coast 2', 'SubCrestaZone_Drakensberg', 'SubCrestaZone_Durban', 'SubCrestaZone_East London', 'SubCrestaZone_East and North of', 'SubCrestaZone_Herbert', 'SubCrestaZone_Highveld', 'SubCrestaZone_Johannesburg', 'SubCrestaZone_Kalahari', 'SubCrestaZone_Karoo 1', 'SubCrestaZone_Langkloof', 'SubCrestaZone_Namakwa', 'SubCrestaZone_Natal 1', 'SubCrestaZone_Natal 2', 'SubCrestaZone_Natal 3', 'SubCrestaZone_Natal Cape', 'SubCrestaZone_North Coast', 'SubCrestaZone_Northeast of CT', 'SubCrestaZone_OFS North 1 and', 'SubCrestaZone_Pondo', 'SubCrestaZone_Port Elizabeth', 'SubCrestaZone_Pretoria', 'SubCrestaZone_Rand East', 'SubCrestaZone_Rand West', 'SubCrestaZone_South Coast', 'SubCrestaZone_Tembu 1', 'SubCrestaZone_Tembu 2', 'SubCrestaZone_Transvaal East', 'SubCrestaZone_Transvaal Mid West', 'SubCrestaZone_Transvaal North', 'SubCrestaZone_Transvaal North West', 'SubCrestaZone_Transvaal South', 'SubCrestaZone_Transvaal South East', 'SubCrestaZone_Transvaal South West', 'SubCrestaZone_Vaalhartz', 'SubCrestaZone_Zululand', 'MainCrestaZone_Cape Province (Cape Town)', 'MainCrestaZone_Cape Province (East and North of Cape Town)', 'MainCrestaZone_Ciskei, Cape Mid 1', 'MainCrestaZone_East London', 'MainCrestaZone_Johannesburg', 'MainCrestaZone_Karoo 1 (Northeast of Cape Town)', 'MainCrestaZone_Langkloof, Coast 2, Coast 1', 'MainCrestaZone_Natal', 'MainCrestaZone_Natal (Durban)', 'MainCrestaZone_Oranje Free State', 'MainCrestaZone_Port Elizabeth', 'MainCrestaZone_Rand East', 'MainCrestaZone_Tembu 2, Cape Mid 2, Cape Mid West, Tembu 1', 'MainCrestaZone_Transvaal (Pretoria)', 'MainCrestaZone_Transvaal (all except Pretoria)', 'bodytype_C/C', 'bodytype_C/P', 'bodytype_D/C', 'bodytype_H/B', 'bodytype_MPV', 'bodytype_P/V', 'bodytype_S/C', 'bodytype_S/D', 'bodytype_S/W', 'bodytype_SUV', 'TrackingDevice_Yes', 'Top_Model_AUDI A4 2.0 TDI S  MULTITRONIC', 'Top_Model_AUDI A4 2.0 TDI S 105kW', 'Top_Model_B.A.W SASUKA 2.7i (16 SEAT)', 'Top_Model_BMW 316i A/T (F30)', 'Top_Model_BMW 320d (E90)', 'Top_Model_BMW 320d A/T (E90)', 'Top_Model_BMW 320i (E36)', 'Top_Model_BMW 320i (E90)', 'Top_Model_BMW 320i (F30)', 'Top_Model_C.A.M INYATHI', 'Top_Model_C.A.M INYATHI GOLDEN DRAGON', 'Top_Model_C.A.M NDLOVU 2.4i 16 Seats', 'Top_Model_CHERY P-10 2.0TCI 15s', 'Top_Model_CHEVROLET OPTRA 1.6 L', 'Top_Model_CITROEN RELAY 3.0HDi 180 L4H2 19 SEAT', 'Top_Model_CMC AMANDLA 2.2', 'Top_Model_CMC SESBUYILE 2.4i 16 SEAT', 'Top_Model_CMC SESBUYILE 2.5 TDi 16 SEAT', 'Top_Model_CMC SESBUYILE 2.7 16 SEAT', 'Top_Model_FIAT DUCATO 2.3 JTD F/C P/V', 'Top_Model_FIAT DUCATO 2.3 JTD HR F/C P/V', 'Top_Model_FIAT DUCATO CH2 F/C P/V', 'Top_Model_FORD FIESTA 1.6 SPORT 5Dr', 'Top_Model_FORD IKON 1.6 AMBIENTE', 'Top_Model_FORD RANGER 3.2TDCi WILDTRACK A/T P/U D/C', 'Top_Model_FORD TRANSIT 2.2 TDCi ELWB 114KW F/C C/C', 'Top_Model_FOTON INKUNZI 2.2 TAXI', 'Top_Model_FOTON VIEW 2.2 TAXI', 'Top_Model_GOLDEN JOURNEY IBHUBEZI 2.2i', 'Top_Model_GOLDEN JOURNEY MAKOYA 2.4i 16S', 'Top_Model_HONDA ACCORD 2.0i A/T', 'Top_Model_HONDA CIVIC 1.8 COMFORT A/T', 'Top_Model_HYUNDAI H-1 2.5 CRDi A/C F/C P/V A/T', 'Top_Model_HYUNDAI H-1 GLS 2.4 CVVT WAGON', 'Top_Model_IVECO 35 S13V 8 F/C P/V', 'Top_Model_IVECO 35S15C CAMPER P/V', 'Top_Model_IVECO 50 C15V 15 F/C P/V', 'Top_Model_IVECO 50C15V12 F/C P/V', 'Top_Model_IVECO 50C15V15 F/C P/V', 'Top_Model_JINBEI HAISE 2.2i', 'Top_Model_JINBEI HAISE H2 2.4i 15 SEAT', 'Top_Model_JINBEI HAISE H2 2.4i 16 SEAT', 'Top_Model_KIA CERATO 1.6 5Dr', 'Top_Model_MARCOPOLO VOLARE W8 28 SEAT B/S B/S', 'Top_Model_MAZDA 3 2.0 INDIVIDUAL', 'Top_Model_MAZDA ETUDE 160iSE SPORT 5dr', 'Top_Model_MERCEDES-BENZ C180 BE COUPE', 'Top_Model_MERCEDES-BENZ C180 CGI BE CLASSIC A/T', 'Top_Model_MERCEDES-BENZ C180K BE AVANTGARDE', 'Top_Model_MERCEDES-BENZ E 200 CGI BE ESTATE', 'Top_Model_MERCEDES-BENZ E 240', 'Top_Model_MERCEDES-BENZ SPRINTER 308 CDI F/C C/C', 'Top_Model_MERCEDES-BENZ SPRINTER 308 CDI F/C P/V', 'Top_Model_MERCEDES-BENZ SPRINTER 309 CDI F/C P/V', 'Top_Model_MERCEDES-BENZ SPRINTER 312D F/C P/V', 'Top_Model_MERCEDES-BENZ SPRINTER 313 CDI HI ROOF F/C P/V', 'Top_Model_MERCEDES-BENZ SPRINTER 315 CDI F/C P/V', 'Top_Model_MERCEDES-BENZ SPRINTER 315 CDI HI ROOF F/C P/V', 'Top_Model_MERCEDES-BENZ SPRINTER 315 CDi LWB HR F/C P/V', 'Top_Model_MERCEDES-BENZ SPRINTER 319 CDi F/C P/V', 'Top_Model_MERCEDES-BENZ SPRINTER 412D P/V C/C', 'Top_Model_MERCEDES-BENZ SPRINTER 413 CDI HI-ROOF F/C P/V', 'Top_Model_MERCEDES-BENZ SPRINTER 416 CDI F/C C/C', 'Top_Model_MERCEDES-BENZ SPRINTER 416 CDI HI-ROOF F/C P/V', 'Top_Model_MERCEDES-BENZ SPRINTER 515 CDi F/C P/V', 'Top_Model_MERCEDES-BENZ SPRINTER 515 CDi HI-ROOF F/C P/V', 'Top_Model_MERCEDES-BENZ SPRINTER 518 CDI D/C F/C C/C', 'Top_Model_MERCEDES-BENZ SPRINTER 518 CDI F/C C/C', 'Top_Model_MERCEDES-BENZ SPRINTER 518 CDI F/C P/V', 'Top_Model_MERCEDES-BENZ SPRINTER 518 CDi XL HI-ROOF F/C P/V', 'Top_Model_MERCEDES-BENZ SPRINTER 519 CDI F/C C/C', 'Top_Model_MERCEDES-BENZ SPRINTER 519 CDI F/C P/V', 'Top_Model_MERCEDES-BENZ SPRINTER 519 CDI XL F/C P/V', 'Top_Model_MERCEDES-BENZ SPRINTER 519 CDi DC F/C C/C', 'Top_Model_MERCEDES-BENZ SPRINTER 519 CDi F/C C/C', 'Top_Model_MERCEDES-BENZ SPRINTER 519 CDi F/C P/V', 'Top_Model_MERCEDES-BENZ SPRINTER 519 CDi XL F/C P/V', 'Top_Model_NISSAN 1400 CHAMP (B01) P/U S/C', 'Top_Model_NISSAN INTERSTAR 2.5 dCi SR F/C P/V', 'Top_Model_NISSAN LIVINA 1.6 VISIA X-GEAR', 'Top_Model_NISSAN NP200 1.5 DCi  A/C SAFETY PACK P/U S/C', 'Top_Model_NISSAN NP200 1.6  A/C SAFETY PACK P/U S/C', 'Top_Model_NISSAN TIIDA 1.6 ACENTA 5Dr (H36)', 'Top_Model_NISSAN/DATSUN NV350 2.5 16 SEAT IMPENDULO', 'Top_Model_NISSAN/DATSUN NV350 2.5i WIDE F/C P/V', 'Top_Model_PEUGEOT BOXER L2H1 2.2 HDi M F/C P/V', 'Top_Model_PEUGEOT BOXER L4H2 3.0 HDi XLH4 F/C P/V', 'Top_Model_POLARSUN INGWE 2.2', 'Top_Model_RENAULT SCENIC 1.9 dCi EXPRESSION', 'Top_Model_RENAULT SCENIC II AUTHENTIQUE 1.6', 'Top_Model_SAIC MAXUS 2.5TD 16 SEAT', 'Top_Model_SCANIA P 94LA 4X2 NA T/T C/C', 'Top_Model_SCANIA P230 DB MSZ F/C C/C', 'Top_Model_SUZUKI ERTIGA 1.4 GLX', 'Top_Model_TATA LP 713 S B/S B/S', 'Top_Model_TOYOTA AVANZA  1.3 S', 'Top_Model_TOYOTA AVANZA 1.3 S', 'Top_Model_TOYOTA AVANZA 1.3 S F/C P/V', 'Top_Model_TOYOTA AVANZA 1.3 SX', 'Top_Model_TOYOTA AVANZA 1.5 SX', 'Top_Model_TOYOTA AVANZA 1.5 TX', 'Top_Model_TOYOTA CAMRY 200 Si A/T', 'Top_Model_TOYOTA CONDOR 2400i 4X4 TX', 'Top_Model_TOYOTA CONDOR 2400i ESTATE', 'Top_Model_TOYOTA CONDOR 2400i ESTATE TE', 'Top_Model_TOYOTA CONQUEST 160i RS', 'Top_Model_TOYOTA COROLLA 1.3 ADVANCED', 'Top_Model_TOYOTA COROLLA 1.3 ESTEEM', 'Top_Model_TOYOTA COROLLA 1.3 IMPACT', 'Top_Model_TOYOTA COROLLA 1.3 PROFESSIONAL', 'Top_Model_TOYOTA COROLLA 1.4D PRESTIGE', 'Top_Model_TOYOTA COROLLA 1.6 ADVANCED', 'Top_Model_TOYOTA COROLLA 1.6 ESTEEM', 'Top_Model_TOYOTA COROLLA 1.6 PROFESSIONAL', 'Top_Model_TOYOTA COROLLA 1.6 SPRINTER', 'Top_Model_TOYOTA COROLLA 140i GLS', 'Top_Model_TOYOTA COROLLA QUEST 1.6', 'Top_Model_TOYOTA ETIOS 1.5 Xs', 'Top_Model_TOYOTA ETIOS 1.5 Xs 5Dr', 'Top_Model_TOYOTA HiACE 2200 F/C P/V', 'Top_Model_TOYOTA HiACE SIYAYA', 'Top_Model_TOYOTA HiACE SUPER 16 F/Lift', 'Top_Model_TOYOTA HiACE SUPER T F/Lift', 'Top_Model_TOYOTA L/CRUISER FJ 4.0 V6 CRUISER', 'Top_Model_TOYOTA QUANTUM 2.5 D-4D 10 SEAT', 'Top_Model_TOYOTA QUANTUM 2.5 D-4D 14 SEAT', 'Top_Model_TOYOTA QUANTUM 2.5 D-4D CREWCAB F/C P/V', 'Top_Model_TOYOTA QUANTUM 2.5 D-4D SESFIKILE 15s', 'Top_Model_TOYOTA QUANTUM 2.5 D-4D SESFIKILE 16s', 'Top_Model_TOYOTA QUANTUM 2.7 10 SEAT', 'Top_Model_TOYOTA QUANTUM 2.7 14 SEAT', 'Top_Model_TOYOTA QUANTUM 2.7 F/C P/V', 'Top_Model_TOYOTA QUANTUM 2.7 SESFIKILE 14s', 'Top_Model_TOYOTA QUANTUM 2.7 SESFIKILE 15s', 'Top_Model_TOYOTA QUANTUM 2.7 SESFIKILE 16s', 'Top_Model_TOYOTA RunX 140i RT', 'Top_Model_TOYOTA STALLION 1800 PANEL VAN F/C P/V', 'Top_Model_TOYOTA TAZZ 130', 'Top_Model_TOYOTA VERSO 180 SX', 'Top_Model_TOYOTA YARIS ZEN3 ACS', 'Top_Model_VOLKSWAGEN CADDY KOMBI 1.9 TDi', 'Top_Model_VOLKSWAGEN CADDY MAXI CREW BUS 1.9TDi', 'Top_Model_VOLKSWAGEN CRAFTER 35 120 F/C P/V', 'Top_Model_VOLKSWAGEN CRAFTER 35 2.0 TDi 80KW F/C P/V', 'Top_Model_VOLKSWAGEN CRAFTER 35 80 F/C P/V', 'Top_Model_VOLKSWAGEN CRAFTER 50 2.0 BiTDi HR 120KW F/C P/V', 'Top_Model_VOLKSWAGEN CRAFTER 50 2.0 BiTDi HR120KW XLWB F/C P/V', 'Top_Model_VOLKSWAGEN CRAFTER 50 2.0 TDi HR 80KW F/C P/V', 'Top_Model_VOLKSWAGEN CRAFTER 50 HR 120 F/C P/V', 'Top_Model_VOLKSWAGEN CRAFTER 50 HR 80 F/C P/V', 'Top_Model_VOLKSWAGEN CRAFTER 50 HR120 XLWB F/C P/V', 'Top_Model_VOLKSWAGEN LT35 2.8TDi S/ROOF F/C P/V', 'Top_Model_VOLKSWAGEN LT46 2.5TDi H/ROOF F/C P/V', 'Top_Model_VOLKSWAGEN LT46 2.8TDi H/ROOF F/C P/V', 'Top_Model_VOLKSWAGEN MICROBUS 2.3 P/S', 'Top_Model_VOLKSWAGEN MICROBUS 2.6i P/S A/C', 'Top_Model_VOLKSWAGEN MICROBUS EXCLUSIVE 2.6', 'Top_Model_VOLKSWAGEN POLO 1.6 COMFORTLINE', 'Top_Model_VOLKSWAGEN POLO 1.6 COMFORTLINE 5DR', 'Top_Model_VOLKSWAGEN T4 2.5 TDi HIGHLINE', 'Top_Model_VOLKSWAGEN T5 CARAVELLE 2.5TDi 128kw', 'Top_Model_VOLKSWAGEN T5 KOMBI 2.0 TDi LWB (75KW) BASE', 'Top_Model_VOLKSWAGEN TOUAREG 5.0 V10 TDI TIP', 'Top_Model_VOLKSWAGEN TRANSPORTER T5 2.0 TDi LWB 103 KW F/C P/V']\n",
            "Remaining NaNs: 23345\n"
          ]
        }
      ]
    },
    {
      "cell_type": "code",
      "source": [
        "# Combine all for encoding\n",
        "features_to_encode = onehot_columns\n",
        "df_encoded = pd.get_dummies(df[features_to_encode], drop_first=True)\n",
        "\n",
        "# Combine with numeric columns\n",
        "df_model_ready = pd.concat([df[numeric_columns], df_encoded], axis=1)\n",
        "\n",
        "# Final shape check\n",
        "print(\"Final encoded dataset shape:\", df_model_ready.shape)\n"
      ],
      "metadata": {
        "colab": {
          "base_uri": "https://localhost:8080/"
        },
        "id": "NauCMEil920w",
        "outputId": "5681660c-a6e5-4a69-f5e9-dd71ef78c501"
      },
      "execution_count": 91,
      "outputs": [
        {
          "output_type": "stream",
          "name": "stdout",
          "text": [
            "Final encoded dataset shape: (220456, 260)\n"
          ]
        }
      ]
    },
    {
      "cell_type": "code",
      "source": [
        "df_model_ready['excess_ratio'] = df_model_ready['excess_ratio'].fillna(0)\n"
      ],
      "metadata": {
        "id": "_DXwTbJXFZ7R"
      },
      "execution_count": 92,
      "outputs": []
    },
    {
      "cell_type": "code",
      "source": [
        "print(df_model_ready[numeric_columns].dtypes)\n"
      ],
      "metadata": {
        "colab": {
          "base_uri": "https://localhost:8080/"
        },
        "id": "mLSSs5P-74KH",
        "outputId": "b265017b-df86-4cd8-e3ce-764839bf4ef0"
      },
      "execution_count": 93,
      "outputs": [
        {
          "output_type": "stream",
          "name": "stdout",
          "text": [
            "CustomValueEstimate    float64\n",
            "CapitalOutstanding      object\n",
            "cubiccapacity          float64\n",
            "kilowatts              float64\n",
            "loss_ratio             float64\n",
            "excess_ratio           float64\n",
            "HasClaim                  bool\n",
            "dtype: object\n"
          ]
        }
      ]
    },
    {
      "cell_type": "code",
      "source": [
        "df_model_ready = df_model_ready.apply(pd.to_numeric, errors='coerce')\n"
      ],
      "metadata": {
        "id": "H5buMYXH8A1k"
      },
      "execution_count": 94,
      "outputs": []
    },
    {
      "cell_type": "code",
      "source": [
        "from sklearn.model_selection import train_test_split\n",
        "\n",
        "# Redefine features and target from the fully cleaned df_model_ready\n",
        "X = df_model_ready.copy()\n",
        "y = df['TotalClaims']\n",
        "\n",
        "# Re-split\n",
        "X_train, X_test, y_train, y_test = train_test_split(\n",
        "    X, y, test_size=0.2, random_state=42\n",
        ")\n"
      ],
      "metadata": {
        "id": "86AA4RM-E-tE"
      },
      "execution_count": 95,
      "outputs": []
    },
    {
      "cell_type": "code",
      "source": [
        "from sklearn.pipeline import Pipeline\n",
        "from sklearn.impute import SimpleImputer\n",
        "from sklearn.linear_model import LinearRegression\n",
        "from sklearn.metrics import mean_squared_error, r2_score\n",
        "from sklearn.model_selection import train_test_split\n",
        "import numpy as np\n",
        "\n",
        "\n",
        "# Pipeline with imputation\n",
        "model_pipeline = Pipeline([\n",
        "    ('imputer', SimpleImputer(strategy='mean')),\n",
        "    ('model', LinearRegression())\n",
        "])\n",
        "\n",
        "# Train\n",
        "model_pipeline.fit(X_train, y_train)\n",
        "\n",
        "# Predict and evaluate\n",
        "y_pred = model_pipeline.predict(X_test)\n",
        "rmse = np.sqrt(mean_squared_error(y_test, y_pred))\n",
        "r2 = r2_score(y_test, y_pred)\n",
        "\n",
        "print(f\"Linear Regression → RMSE: {rmse:.2f}, R²: {r2:.4f}\")\n"
      ],
      "metadata": {
        "colab": {
          "base_uri": "https://localhost:8080/"
        },
        "id": "5pn-WZ7TmJbZ",
        "outputId": "56ef3728-0c01-4eea-d1dd-59e465996340"
      },
      "execution_count": 96,
      "outputs": [
        {
          "output_type": "stream",
          "name": "stdout",
          "text": [
            "Linear Regression → RMSE: 0.00, R²: 1.0000\n"
          ]
        }
      ]
    },
    {
      "cell_type": "markdown",
      "source": [
        " Linear Regression Model Results\n",
        "We built a linear regression model to estimate the Total Claims that a customer might make on their insurance policy. This is part of a broader strategy to understand financial risk and improve pricing.\n",
        "\n",
        "🔍 What Did We Predict?\n",
        "We focused on claim severity — that is, how much a policyholder claims once an incident occurs. The model uses customer information, vehicle details, location data, and engineered financial indicators to make its predictions.\n",
        "\n",
        "📊 Key Evaluation Metrics\n",
        "Metric\tResult\tWhat It Means\n",
        "Root Mean Squared Error\t1,571.44\tOn average, the model’s prediction differs from the actual claim by about 1,571 currency units (e.g., ETB or ZAR).\n",
        "R-squared (R² Score)\t0.4075\tThe model explains approximately 41% of the variation in claim amounts across all customers.\n",
        "\n",
        "✅ How to Interpret These Results\n",
        "The RMSE of 1,571.44 means that our predictions aren’t perfect — but for a first model, this is expected. Insurance claims often vary widely between customers and can be hard to predict precisely.\n",
        "\n",
        "The R² score of 0.4075 tells us that our model captures 41% of the key drivers behind why some customers claim more than others. This shows we are on the right path, but there's room to improve by using more advanced models.\n",
        "\n",
        "📌 Business Takeaway\n",
        "This initial model provides valuable insights into claim behavior and helps us estimate financial exposure. While it doesn’t explain everything, it gives a data-driven starting point for:\n",
        "\n",
        "Setting more accurate premiums\n",
        "\n",
        "Identifying high-risk customers\n",
        "\n",
        "Creating a more risk-adjusted pricing strategy\n",
        "\n",
        "In the next phase, we’ll explore more advanced machine learning models like Random Forests and XGBoost to improve accuracy and explain more of the variance."
      ],
      "metadata": {
        "id": "TRdYG74mF8Tv"
      }
    },
    {
      "cell_type": "code",
      "source": [
        "from sklearn.tree import DecisionTreeRegressor\n",
        "from sklearn.metrics import mean_squared_error, r2_score\n",
        "import numpy as np\n",
        "\n",
        "# Initialize and train the model\n",
        "dt = DecisionTreeRegressor(random_state=42, max_depth=10)  # Limit depth to avoid overfitting\n",
        "dt.fit(X_train, y_train)\n",
        "\n",
        "# Predict on test data\n",
        "y_pred_dt = dt.predict(X_test)\n",
        "\n",
        "# Evaluate\n",
        "rmse_dt = np.sqrt(mean_squared_error(y_test, y_pred_dt))\n",
        "r2_dt = r2_score(y_test, y_pred_dt)\n",
        "\n",
        "print(f\"Decision Tree → RMSE: {rmse_dt:.2f}, R²: {r2_dt:.4f}\")\n"
      ],
      "metadata": {
        "colab": {
          "base_uri": "https://localhost:8080/"
        },
        "id": "sq0n7laHF_7u",
        "outputId": "82a2f501-233c-45f9-8f81-4558c5bef187"
      },
      "execution_count": 29,
      "outputs": [
        {
          "output_type": "stream",
          "name": "stdout",
          "text": [
            "Decision Tree → RMSE: 719.16, R²: 0.8759\n"
          ]
        }
      ]
    },
    {
      "cell_type": "markdown",
      "source": [
        "Decision Tree Regression Results\n",
        "We trained a Decision Tree Regressor model to estimate the TotalClaims a customer might make on their insurance policy. This model uses a series of rule-based splits to predict outcomes, which allows it to capture complex interactions between features such as customer profile, vehicle type, location, and policy structure.\n",
        "\n",
        "Model Performance\n",
        "Metric\tValue\tInterpretation\n",
        "Root Mean Squared Error\t719.07\tOn average, the predicted claim amount differs from the actual value by approximately 719 currency units.\n",
        "R-squared (R² Score)\t0.8759\tThe model explains approximately 87.6% of the variation in claim amounts across all customers.\n",
        "\n",
        "Interpretation of Results\n",
        "The Decision Tree model significantly outperforms the baseline Linear Regression model (which had an RMSE of ~1571 and R² of 0.41).\n",
        "\n",
        "A lower RMSE indicates improved predictive accuracy.\n",
        "\n",
        "A higher R² score shows that the model captures a substantial portion of the underlying patterns in the data.\n",
        "\n",
        "Why This Model Performs Better\n",
        "Unlike linear models, which assume a straight-line relationship between inputs and the target, decision trees:\n",
        "\n",
        "Handle non-linear relationships effectively\n",
        "\n",
        "Capture feature interactions, such as combinations of customer status and vehicle value\n",
        "\n",
        "Do not require feature scaling or strict distributional assumptions\n",
        "\n",
        "Business Implications\n",
        "This model is highly suitable for:\n",
        "\n",
        "Adjusting premiums based on predicted claim costs\n",
        "\n",
        "Supporting risk-based pricing strategies\n",
        "\n",
        "Segmenting customers by potential financial risk\n",
        "\n",
        "The Decision Tree model provides a strong balance between performance and interpretability, making it a valuable component in the risk analytics workflow.\n",
        "\n"
      ],
      "metadata": {
        "id": "9Kn2VGXFGvzq"
      }
    },
    {
      "cell_type": "code",
      "source": [
        "from sklearn.ensemble import RandomForestRegressor\n",
        "from sklearn.metrics import mean_squared_error, r2_score\n",
        "import numpy as np\n",
        "\n",
        "# Initialize and train the Random Forest\n",
        "rf = RandomForestRegressor(n_estimators=100, max_depth=15, random_state=42, n_jobs=-1)\n",
        "rf.fit(X_train, y_train)\n",
        "\n",
        "# Make predictions\n",
        "y_pred_rf = rf.predict(X_test)\n",
        "\n",
        "# Evaluate\n",
        "rmse_rf = np.sqrt(mean_squared_error(y_test, y_pred_rf))\n",
        "r2_rf = r2_score(y_test, y_pred_rf)\n",
        "\n",
        "print(f\"Random Forest → RMSE: {rmse_rf:.2f}, R²: {r2_rf:.4f}\")\n"
      ],
      "metadata": {
        "colab": {
          "base_uri": "https://localhost:8080/"
        },
        "id": "tT83gPPyGub4",
        "outputId": "e1642130-e6ae-4c28-a1c7-3158d830ce57"
      },
      "execution_count": 30,
      "outputs": [
        {
          "output_type": "stream",
          "name": "stdout",
          "text": [
            "Random Forest → RMSE: 620.35, R²: 0.9077\n"
          ]
        }
      ]
    },
    {
      "cell_type": "markdown",
      "source": [
        "Interpretation of Random Forest Results\n",
        "RMSE of 631.37 means the model, on average, predicts claim amounts within ~631 currency units of the actual value.\n",
        "\n",
        "R² Score of 0.9044 means the model explains over 90% of the variance in claim amounts.\n",
        "\n",
        "This performance indicates that the Random Forest model is accurate, robust, and generalizes well, making it the strongest candidate for deployment.\n",
        "\n",
        "Business Implications\n",
        "Random Forest can be used to estimate financial risk exposure per policy with high accuracy.\n",
        "\n",
        "It supports risk-based pricing, reserve setting, and underwriting decisions.\n",
        "\n",
        "The model is suitable for integration into production systems to aid in real-time premium recommendation and claims forecasting."
      ],
      "metadata": {
        "id": "B1P5FjddH7A1"
      }
    },
    {
      "cell_type": "code",
      "source": [
        "import xgboost as xgb\n",
        "from sklearn.metrics import mean_squared_error, r2_score\n",
        "import numpy as np\n",
        "\n",
        "# Initialize the model\n",
        "xgb_model = xgb.XGBRegressor(\n",
        "    n_estimators=100,\n",
        "    learning_rate=0.1,\n",
        "    max_depth=6,\n",
        "    subsample=0.8,\n",
        "    colsample_bytree=0.8,\n",
        "    random_state=42,\n",
        "    n_jobs=-1\n",
        ")\n",
        "\n",
        "# Train the model\n",
        "xgb_model.fit(X_train, y_train)\n",
        "\n",
        "# Predict on test set\n",
        "y_pred_xgb = xgb_model.predict(X_test)\n",
        "\n",
        "# Evaluate\n",
        "rmse_xgb = np.sqrt(mean_squared_error(y_test, y_pred_xgb))\n",
        "r2_xgb = r2_score(y_test, y_pred_xgb)\n",
        "\n",
        "print(f\"XGBoost → RMSE: {rmse_xgb:.2f}, R²: {r2_xgb:.4f}\")\n"
      ],
      "metadata": {
        "colab": {
          "base_uri": "https://localhost:8080/"
        },
        "id": "UgSxgkLpHsxF",
        "outputId": "163988b0-c5e9-42c6-96c1-243004a14b30"
      },
      "execution_count": 31,
      "outputs": [
        {
          "output_type": "stream",
          "name": "stdout",
          "text": [
            "XGBoost → RMSE: 680.85, R²: 0.8888\n"
          ]
        }
      ]
    },
    {
      "cell_type": "markdown",
      "source": [
        "XGBoost Regression Results – Claim Severity Prediction\n",
        "We trained an XGBoost Regressor to predict the TotalClaims amount for each insurance policy. XGBoost is a gradient boosting algorithm that builds an ensemble of decision trees in sequence, each correcting the errors of the previous one. It is known for high accuracy, efficiency, and scalability.\n",
        "\n",
        "Model Performance\n",
        "Metric\tValue\tInterpretation\n",
        "Root Mean Squared Error\t692.96\tOn average, the model's predictions deviate from the actual claim values by approximately 693 currency units.\n",
        "R-squared (R² Score)\t0.8848\tThe model explains about 88.5% of the variance in claim amounts across all customers.\n",
        "\n",
        "Interpretation\n",
        "The model captures complex, non-linear relationships between features such as customer profile, vehicle value, and policy details.\n",
        "\n",
        "While slightly behind Random Forest in performance, XGBoost remains highly competitive and often excels when further tuned.\n",
        "\n",
        "It is particularly effective on tabular data with a mix of continuous and categorical variables.\n",
        "\n",
        "Business Implications\n",
        "XGBoost can be used to improve premium accuracy by estimating potential claims per policyholder.\n",
        "\n",
        "The model supports more precise risk assessment and helps the business move toward a data-driven pricing model.\n",
        "\n",
        "Due to its generalization ability, XGBoost is a suitable candidate for deployment in real-time or batch scoring systems."
      ],
      "metadata": {
        "id": "yYJNxuXeIV7O"
      }
    },
    {
      "cell_type": "code",
      "source": [
        "df_claims = df[df['TotalClaims'] > 0].copy()\n",
        "X_claims = df_model_ready.loc[df_claims.index]  # same features\n",
        "y_claims = df_claims['TotalClaims']\n"
      ],
      "metadata": {
        "id": "1OUJS52ITaiC"
      },
      "execution_count": 33,
      "outputs": []
    },
    {
      "cell_type": "code",
      "source": [
        "from sklearn.ensemble import RandomForestRegressor\n",
        "\n",
        "rf_severity = RandomForestRegressor(n_estimators=100, max_depth=15, random_state=42)\n",
        "rf_severity.fit(X_claims, y_claims)\n"
      ],
      "metadata": {
        "colab": {
          "base_uri": "https://localhost:8080/",
          "height": 80
        },
        "id": "fSE6oo2URhkx",
        "outputId": "4f8a9d90-cf8d-46f4-9c4e-b9869d62d7a7"
      },
      "execution_count": 34,
      "outputs": [
        {
          "output_type": "execute_result",
          "data": {
            "text/plain": [
              "RandomForestRegressor(max_depth=15, random_state=42)"
            ],
            "text/html": [
              "<style>#sk-container-id-1 {\n",
              "  /* Definition of color scheme common for light and dark mode */\n",
              "  --sklearn-color-text: #000;\n",
              "  --sklearn-color-text-muted: #666;\n",
              "  --sklearn-color-line: gray;\n",
              "  /* Definition of color scheme for unfitted estimators */\n",
              "  --sklearn-color-unfitted-level-0: #fff5e6;\n",
              "  --sklearn-color-unfitted-level-1: #f6e4d2;\n",
              "  --sklearn-color-unfitted-level-2: #ffe0b3;\n",
              "  --sklearn-color-unfitted-level-3: chocolate;\n",
              "  /* Definition of color scheme for fitted estimators */\n",
              "  --sklearn-color-fitted-level-0: #f0f8ff;\n",
              "  --sklearn-color-fitted-level-1: #d4ebff;\n",
              "  --sklearn-color-fitted-level-2: #b3dbfd;\n",
              "  --sklearn-color-fitted-level-3: cornflowerblue;\n",
              "\n",
              "  /* Specific color for light theme */\n",
              "  --sklearn-color-text-on-default-background: var(--sg-text-color, var(--theme-code-foreground, var(--jp-content-font-color1, black)));\n",
              "  --sklearn-color-background: var(--sg-background-color, var(--theme-background, var(--jp-layout-color0, white)));\n",
              "  --sklearn-color-border-box: var(--sg-text-color, var(--theme-code-foreground, var(--jp-content-font-color1, black)));\n",
              "  --sklearn-color-icon: #696969;\n",
              "\n",
              "  @media (prefers-color-scheme: dark) {\n",
              "    /* Redefinition of color scheme for dark theme */\n",
              "    --sklearn-color-text-on-default-background: var(--sg-text-color, var(--theme-code-foreground, var(--jp-content-font-color1, white)));\n",
              "    --sklearn-color-background: var(--sg-background-color, var(--theme-background, var(--jp-layout-color0, #111)));\n",
              "    --sklearn-color-border-box: var(--sg-text-color, var(--theme-code-foreground, var(--jp-content-font-color1, white)));\n",
              "    --sklearn-color-icon: #878787;\n",
              "  }\n",
              "}\n",
              "\n",
              "#sk-container-id-1 {\n",
              "  color: var(--sklearn-color-text);\n",
              "}\n",
              "\n",
              "#sk-container-id-1 pre {\n",
              "  padding: 0;\n",
              "}\n",
              "\n",
              "#sk-container-id-1 input.sk-hidden--visually {\n",
              "  border: 0;\n",
              "  clip: rect(1px 1px 1px 1px);\n",
              "  clip: rect(1px, 1px, 1px, 1px);\n",
              "  height: 1px;\n",
              "  margin: -1px;\n",
              "  overflow: hidden;\n",
              "  padding: 0;\n",
              "  position: absolute;\n",
              "  width: 1px;\n",
              "}\n",
              "\n",
              "#sk-container-id-1 div.sk-dashed-wrapped {\n",
              "  border: 1px dashed var(--sklearn-color-line);\n",
              "  margin: 0 0.4em 0.5em 0.4em;\n",
              "  box-sizing: border-box;\n",
              "  padding-bottom: 0.4em;\n",
              "  background-color: var(--sklearn-color-background);\n",
              "}\n",
              "\n",
              "#sk-container-id-1 div.sk-container {\n",
              "  /* jupyter's `normalize.less` sets `[hidden] { display: none; }`\n",
              "     but bootstrap.min.css set `[hidden] { display: none !important; }`\n",
              "     so we also need the `!important` here to be able to override the\n",
              "     default hidden behavior on the sphinx rendered scikit-learn.org.\n",
              "     See: https://github.com/scikit-learn/scikit-learn/issues/21755 */\n",
              "  display: inline-block !important;\n",
              "  position: relative;\n",
              "}\n",
              "\n",
              "#sk-container-id-1 div.sk-text-repr-fallback {\n",
              "  display: none;\n",
              "}\n",
              "\n",
              "div.sk-parallel-item,\n",
              "div.sk-serial,\n",
              "div.sk-item {\n",
              "  /* draw centered vertical line to link estimators */\n",
              "  background-image: linear-gradient(var(--sklearn-color-text-on-default-background), var(--sklearn-color-text-on-default-background));\n",
              "  background-size: 2px 100%;\n",
              "  background-repeat: no-repeat;\n",
              "  background-position: center center;\n",
              "}\n",
              "\n",
              "/* Parallel-specific style estimator block */\n",
              "\n",
              "#sk-container-id-1 div.sk-parallel-item::after {\n",
              "  content: \"\";\n",
              "  width: 100%;\n",
              "  border-bottom: 2px solid var(--sklearn-color-text-on-default-background);\n",
              "  flex-grow: 1;\n",
              "}\n",
              "\n",
              "#sk-container-id-1 div.sk-parallel {\n",
              "  display: flex;\n",
              "  align-items: stretch;\n",
              "  justify-content: center;\n",
              "  background-color: var(--sklearn-color-background);\n",
              "  position: relative;\n",
              "}\n",
              "\n",
              "#sk-container-id-1 div.sk-parallel-item {\n",
              "  display: flex;\n",
              "  flex-direction: column;\n",
              "}\n",
              "\n",
              "#sk-container-id-1 div.sk-parallel-item:first-child::after {\n",
              "  align-self: flex-end;\n",
              "  width: 50%;\n",
              "}\n",
              "\n",
              "#sk-container-id-1 div.sk-parallel-item:last-child::after {\n",
              "  align-self: flex-start;\n",
              "  width: 50%;\n",
              "}\n",
              "\n",
              "#sk-container-id-1 div.sk-parallel-item:only-child::after {\n",
              "  width: 0;\n",
              "}\n",
              "\n",
              "/* Serial-specific style estimator block */\n",
              "\n",
              "#sk-container-id-1 div.sk-serial {\n",
              "  display: flex;\n",
              "  flex-direction: column;\n",
              "  align-items: center;\n",
              "  background-color: var(--sklearn-color-background);\n",
              "  padding-right: 1em;\n",
              "  padding-left: 1em;\n",
              "}\n",
              "\n",
              "\n",
              "/* Toggleable style: style used for estimator/Pipeline/ColumnTransformer box that is\n",
              "clickable and can be expanded/collapsed.\n",
              "- Pipeline and ColumnTransformer use this feature and define the default style\n",
              "- Estimators will overwrite some part of the style using the `sk-estimator` class\n",
              "*/\n",
              "\n",
              "/* Pipeline and ColumnTransformer style (default) */\n",
              "\n",
              "#sk-container-id-1 div.sk-toggleable {\n",
              "  /* Default theme specific background. It is overwritten whether we have a\n",
              "  specific estimator or a Pipeline/ColumnTransformer */\n",
              "  background-color: var(--sklearn-color-background);\n",
              "}\n",
              "\n",
              "/* Toggleable label */\n",
              "#sk-container-id-1 label.sk-toggleable__label {\n",
              "  cursor: pointer;\n",
              "  display: flex;\n",
              "  width: 100%;\n",
              "  margin-bottom: 0;\n",
              "  padding: 0.5em;\n",
              "  box-sizing: border-box;\n",
              "  text-align: center;\n",
              "  align-items: start;\n",
              "  justify-content: space-between;\n",
              "  gap: 0.5em;\n",
              "}\n",
              "\n",
              "#sk-container-id-1 label.sk-toggleable__label .caption {\n",
              "  font-size: 0.6rem;\n",
              "  font-weight: lighter;\n",
              "  color: var(--sklearn-color-text-muted);\n",
              "}\n",
              "\n",
              "#sk-container-id-1 label.sk-toggleable__label-arrow:before {\n",
              "  /* Arrow on the left of the label */\n",
              "  content: \"▸\";\n",
              "  float: left;\n",
              "  margin-right: 0.25em;\n",
              "  color: var(--sklearn-color-icon);\n",
              "}\n",
              "\n",
              "#sk-container-id-1 label.sk-toggleable__label-arrow:hover:before {\n",
              "  color: var(--sklearn-color-text);\n",
              "}\n",
              "\n",
              "/* Toggleable content - dropdown */\n",
              "\n",
              "#sk-container-id-1 div.sk-toggleable__content {\n",
              "  max-height: 0;\n",
              "  max-width: 0;\n",
              "  overflow: hidden;\n",
              "  text-align: left;\n",
              "  /* unfitted */\n",
              "  background-color: var(--sklearn-color-unfitted-level-0);\n",
              "}\n",
              "\n",
              "#sk-container-id-1 div.sk-toggleable__content.fitted {\n",
              "  /* fitted */\n",
              "  background-color: var(--sklearn-color-fitted-level-0);\n",
              "}\n",
              "\n",
              "#sk-container-id-1 div.sk-toggleable__content pre {\n",
              "  margin: 0.2em;\n",
              "  border-radius: 0.25em;\n",
              "  color: var(--sklearn-color-text);\n",
              "  /* unfitted */\n",
              "  background-color: var(--sklearn-color-unfitted-level-0);\n",
              "}\n",
              "\n",
              "#sk-container-id-1 div.sk-toggleable__content.fitted pre {\n",
              "  /* unfitted */\n",
              "  background-color: var(--sklearn-color-fitted-level-0);\n",
              "}\n",
              "\n",
              "#sk-container-id-1 input.sk-toggleable__control:checked~div.sk-toggleable__content {\n",
              "  /* Expand drop-down */\n",
              "  max-height: 200px;\n",
              "  max-width: 100%;\n",
              "  overflow: auto;\n",
              "}\n",
              "\n",
              "#sk-container-id-1 input.sk-toggleable__control:checked~label.sk-toggleable__label-arrow:before {\n",
              "  content: \"▾\";\n",
              "}\n",
              "\n",
              "/* Pipeline/ColumnTransformer-specific style */\n",
              "\n",
              "#sk-container-id-1 div.sk-label input.sk-toggleable__control:checked~label.sk-toggleable__label {\n",
              "  color: var(--sklearn-color-text);\n",
              "  background-color: var(--sklearn-color-unfitted-level-2);\n",
              "}\n",
              "\n",
              "#sk-container-id-1 div.sk-label.fitted input.sk-toggleable__control:checked~label.sk-toggleable__label {\n",
              "  background-color: var(--sklearn-color-fitted-level-2);\n",
              "}\n",
              "\n",
              "/* Estimator-specific style */\n",
              "\n",
              "/* Colorize estimator box */\n",
              "#sk-container-id-1 div.sk-estimator input.sk-toggleable__control:checked~label.sk-toggleable__label {\n",
              "  /* unfitted */\n",
              "  background-color: var(--sklearn-color-unfitted-level-2);\n",
              "}\n",
              "\n",
              "#sk-container-id-1 div.sk-estimator.fitted input.sk-toggleable__control:checked~label.sk-toggleable__label {\n",
              "  /* fitted */\n",
              "  background-color: var(--sklearn-color-fitted-level-2);\n",
              "}\n",
              "\n",
              "#sk-container-id-1 div.sk-label label.sk-toggleable__label,\n",
              "#sk-container-id-1 div.sk-label label {\n",
              "  /* The background is the default theme color */\n",
              "  color: var(--sklearn-color-text-on-default-background);\n",
              "}\n",
              "\n",
              "/* On hover, darken the color of the background */\n",
              "#sk-container-id-1 div.sk-label:hover label.sk-toggleable__label {\n",
              "  color: var(--sklearn-color-text);\n",
              "  background-color: var(--sklearn-color-unfitted-level-2);\n",
              "}\n",
              "\n",
              "/* Label box, darken color on hover, fitted */\n",
              "#sk-container-id-1 div.sk-label.fitted:hover label.sk-toggleable__label.fitted {\n",
              "  color: var(--sklearn-color-text);\n",
              "  background-color: var(--sklearn-color-fitted-level-2);\n",
              "}\n",
              "\n",
              "/* Estimator label */\n",
              "\n",
              "#sk-container-id-1 div.sk-label label {\n",
              "  font-family: monospace;\n",
              "  font-weight: bold;\n",
              "  display: inline-block;\n",
              "  line-height: 1.2em;\n",
              "}\n",
              "\n",
              "#sk-container-id-1 div.sk-label-container {\n",
              "  text-align: center;\n",
              "}\n",
              "\n",
              "/* Estimator-specific */\n",
              "#sk-container-id-1 div.sk-estimator {\n",
              "  font-family: monospace;\n",
              "  border: 1px dotted var(--sklearn-color-border-box);\n",
              "  border-radius: 0.25em;\n",
              "  box-sizing: border-box;\n",
              "  margin-bottom: 0.5em;\n",
              "  /* unfitted */\n",
              "  background-color: var(--sklearn-color-unfitted-level-0);\n",
              "}\n",
              "\n",
              "#sk-container-id-1 div.sk-estimator.fitted {\n",
              "  /* fitted */\n",
              "  background-color: var(--sklearn-color-fitted-level-0);\n",
              "}\n",
              "\n",
              "/* on hover */\n",
              "#sk-container-id-1 div.sk-estimator:hover {\n",
              "  /* unfitted */\n",
              "  background-color: var(--sklearn-color-unfitted-level-2);\n",
              "}\n",
              "\n",
              "#sk-container-id-1 div.sk-estimator.fitted:hover {\n",
              "  /* fitted */\n",
              "  background-color: var(--sklearn-color-fitted-level-2);\n",
              "}\n",
              "\n",
              "/* Specification for estimator info (e.g. \"i\" and \"?\") */\n",
              "\n",
              "/* Common style for \"i\" and \"?\" */\n",
              "\n",
              ".sk-estimator-doc-link,\n",
              "a:link.sk-estimator-doc-link,\n",
              "a:visited.sk-estimator-doc-link {\n",
              "  float: right;\n",
              "  font-size: smaller;\n",
              "  line-height: 1em;\n",
              "  font-family: monospace;\n",
              "  background-color: var(--sklearn-color-background);\n",
              "  border-radius: 1em;\n",
              "  height: 1em;\n",
              "  width: 1em;\n",
              "  text-decoration: none !important;\n",
              "  margin-left: 0.5em;\n",
              "  text-align: center;\n",
              "  /* unfitted */\n",
              "  border: var(--sklearn-color-unfitted-level-1) 1pt solid;\n",
              "  color: var(--sklearn-color-unfitted-level-1);\n",
              "}\n",
              "\n",
              ".sk-estimator-doc-link.fitted,\n",
              "a:link.sk-estimator-doc-link.fitted,\n",
              "a:visited.sk-estimator-doc-link.fitted {\n",
              "  /* fitted */\n",
              "  border: var(--sklearn-color-fitted-level-1) 1pt solid;\n",
              "  color: var(--sklearn-color-fitted-level-1);\n",
              "}\n",
              "\n",
              "/* On hover */\n",
              "div.sk-estimator:hover .sk-estimator-doc-link:hover,\n",
              ".sk-estimator-doc-link:hover,\n",
              "div.sk-label-container:hover .sk-estimator-doc-link:hover,\n",
              ".sk-estimator-doc-link:hover {\n",
              "  /* unfitted */\n",
              "  background-color: var(--sklearn-color-unfitted-level-3);\n",
              "  color: var(--sklearn-color-background);\n",
              "  text-decoration: none;\n",
              "}\n",
              "\n",
              "div.sk-estimator.fitted:hover .sk-estimator-doc-link.fitted:hover,\n",
              ".sk-estimator-doc-link.fitted:hover,\n",
              "div.sk-label-container:hover .sk-estimator-doc-link.fitted:hover,\n",
              ".sk-estimator-doc-link.fitted:hover {\n",
              "  /* fitted */\n",
              "  background-color: var(--sklearn-color-fitted-level-3);\n",
              "  color: var(--sklearn-color-background);\n",
              "  text-decoration: none;\n",
              "}\n",
              "\n",
              "/* Span, style for the box shown on hovering the info icon */\n",
              ".sk-estimator-doc-link span {\n",
              "  display: none;\n",
              "  z-index: 9999;\n",
              "  position: relative;\n",
              "  font-weight: normal;\n",
              "  right: .2ex;\n",
              "  padding: .5ex;\n",
              "  margin: .5ex;\n",
              "  width: min-content;\n",
              "  min-width: 20ex;\n",
              "  max-width: 50ex;\n",
              "  color: var(--sklearn-color-text);\n",
              "  box-shadow: 2pt 2pt 4pt #999;\n",
              "  /* unfitted */\n",
              "  background: var(--sklearn-color-unfitted-level-0);\n",
              "  border: .5pt solid var(--sklearn-color-unfitted-level-3);\n",
              "}\n",
              "\n",
              ".sk-estimator-doc-link.fitted span {\n",
              "  /* fitted */\n",
              "  background: var(--sklearn-color-fitted-level-0);\n",
              "  border: var(--sklearn-color-fitted-level-3);\n",
              "}\n",
              "\n",
              ".sk-estimator-doc-link:hover span {\n",
              "  display: block;\n",
              "}\n",
              "\n",
              "/* \"?\"-specific style due to the `<a>` HTML tag */\n",
              "\n",
              "#sk-container-id-1 a.estimator_doc_link {\n",
              "  float: right;\n",
              "  font-size: 1rem;\n",
              "  line-height: 1em;\n",
              "  font-family: monospace;\n",
              "  background-color: var(--sklearn-color-background);\n",
              "  border-radius: 1rem;\n",
              "  height: 1rem;\n",
              "  width: 1rem;\n",
              "  text-decoration: none;\n",
              "  /* unfitted */\n",
              "  color: var(--sklearn-color-unfitted-level-1);\n",
              "  border: var(--sklearn-color-unfitted-level-1) 1pt solid;\n",
              "}\n",
              "\n",
              "#sk-container-id-1 a.estimator_doc_link.fitted {\n",
              "  /* fitted */\n",
              "  border: var(--sklearn-color-fitted-level-1) 1pt solid;\n",
              "  color: var(--sklearn-color-fitted-level-1);\n",
              "}\n",
              "\n",
              "/* On hover */\n",
              "#sk-container-id-1 a.estimator_doc_link:hover {\n",
              "  /* unfitted */\n",
              "  background-color: var(--sklearn-color-unfitted-level-3);\n",
              "  color: var(--sklearn-color-background);\n",
              "  text-decoration: none;\n",
              "}\n",
              "\n",
              "#sk-container-id-1 a.estimator_doc_link.fitted:hover {\n",
              "  /* fitted */\n",
              "  background-color: var(--sklearn-color-fitted-level-3);\n",
              "}\n",
              "</style><div id=\"sk-container-id-1\" class=\"sk-top-container\"><div class=\"sk-text-repr-fallback\"><pre>RandomForestRegressor(max_depth=15, random_state=42)</pre><b>In a Jupyter environment, please rerun this cell to show the HTML representation or trust the notebook. <br />On GitHub, the HTML representation is unable to render, please try loading this page with nbviewer.org.</b></div><div class=\"sk-container\" hidden><div class=\"sk-item\"><div class=\"sk-estimator fitted sk-toggleable\"><input class=\"sk-toggleable__control sk-hidden--visually\" id=\"sk-estimator-id-1\" type=\"checkbox\" checked><label for=\"sk-estimator-id-1\" class=\"sk-toggleable__label fitted sk-toggleable__label-arrow\"><div><div>RandomForestRegressor</div></div><div><a class=\"sk-estimator-doc-link fitted\" rel=\"noreferrer\" target=\"_blank\" href=\"https://scikit-learn.org/1.6/modules/generated/sklearn.ensemble.RandomForestRegressor.html\">?<span>Documentation for RandomForestRegressor</span></a><span class=\"sk-estimator-doc-link fitted\">i<span>Fitted</span></span></div></label><div class=\"sk-toggleable__content fitted\"><pre>RandomForestRegressor(max_depth=15, random_state=42)</pre></div> </div></div></div></div>"
            ]
          },
          "metadata": {},
          "execution_count": 34
        }
      ]
    },
    {
      "cell_type": "code",
      "source": [
        "predicted_severity = rf_severity.predict(df_model_ready)\n"
      ],
      "metadata": {
        "id": "Ssua54Q0TdYx"
      },
      "execution_count": 35,
      "outputs": []
    },
    {
      "cell_type": "code",
      "source": [
        "from sklearn.model_selection import train_test_split\n",
        "\n",
        "# Assuming df_model_ready is your feature set\n",
        "X_class = df_model_ready.copy()\n",
        "y_class = df['HasClaim'].astype(int)  # Ensure binary classification target\n",
        "\n",
        "X_train_c, X_test_c, y_train_c, y_test_c = train_test_split(\n",
        "    X_class, y_class, test_size=0.2, random_state=42\n",
        ")\n"
      ],
      "metadata": {
        "id": "jEfStxoJpdn9"
      },
      "execution_count": 39,
      "outputs": []
    },
    {
      "cell_type": "code",
      "source": [
        "from sklearn.pipeline import Pipeline\n",
        "from sklearn.impute import SimpleImputer\n",
        "from sklearn.linear_model import LogisticRegression\n",
        "from sklearn.metrics import accuracy_score, precision_score, recall_score, f1_score\n",
        "\n",
        "# Define pipeline: Impute missing values + Logistic Regression\n",
        "pipeline = Pipeline([\n",
        "    ('imputer', SimpleImputer(strategy='mean')),\n",
        "    ('classifier', LogisticRegression(max_iter=1000))\n",
        "])\n",
        "\n",
        "# Fit the pipeline\n",
        "pipeline.fit(X_train_c, y_train_c)\n",
        "\n",
        "# Predict\n",
        "y_pred_log = pipeline.predict(X_test_c)\n",
        "\n",
        "# Evaluate\n",
        "accuracy_log  = accuracy_score(y_test_c, y_pred_log)\n",
        "precision_log = precision_score(y_test_c, y_pred_log)\n",
        "recall_log    = recall_score(y_test_c, y_pred_log)\n",
        "f1_log        = f1_score(y_test_c, y_pred_log)\n",
        "\n",
        "# Print results\n",
        "print(\"Logistic Regression (with Imputation) on HasClaim:\")\n",
        "print(f\"Accuracy : {accuracy_log:.4f}\")\n",
        "print(f\"Precision: {precision_log:.4f}\")\n",
        "print(f\"Recall   : {recall_log:.4f}\")\n",
        "print(f\"F1 Score : {f1_log:.4f}\")\n",
        "\n"
      ],
      "metadata": {
        "colab": {
          "base_uri": "https://localhost:8080/"
        },
        "id": "PhiU_v5thKc3",
        "outputId": "d5428e0e-e8ef-47b7-b793-18846b9b7473"
      },
      "execution_count": 46,
      "outputs": [
        {
          "output_type": "stream",
          "name": "stdout",
          "text": [
            "Logistic Regression (with Imputation) on HasClaim:\n",
            "Accuracy : 0.9999\n",
            "Precision: 1.0000\n",
            "Recall   : 0.9652\n",
            "F1 Score : 0.9823\n"
          ]
        }
      ]
    },
    {
      "cell_type": "code",
      "source": [
        "from sklearn.ensemble import RandomForestClassifier\n",
        "from sklearn.model_selection import train_test_split\n",
        "from sklearn.metrics import roc_auc_score\n",
        "\n",
        "# Target and features\n",
        "X_class = df_model_ready.copy()\n",
        "y_class = df['HasClaim'].astype(int)\n",
        "\n",
        "# Split into train/test\n",
        "X_train_c, X_test_c, y_train_c, y_test_c = train_test_split(X_class, y_class, test_size=0.2, random_state=42)\n",
        "\n",
        "# Train classifier\n",
        "rf_class = RandomForestClassifier(n_estimators=100, max_depth=10, random_state=42)\n",
        "rf_class.fit(X_train_c, y_train_c)\n",
        "\n",
        "# Predict probabilities of a claim\n",
        "prob_claim = rf_class.predict_proba(df_model_ready)[:, 1]  # use entire dataset for pricing\n"
      ],
      "metadata": {
        "id": "DFLWLYgTTRA6"
      },
      "execution_count": 41,
      "outputs": []
    },
    {
      "cell_type": "code",
      "source": [
        "from sklearn.metrics import accuracy_score, precision_score, recall_score, f1_score\n",
        "\n",
        "# Predict binary outcomes for classification evaluation\n",
        "y_pred_class = rf_class.predict(X_test_c)\n",
        "\n",
        "# Evaluate performance\n",
        "accuracy  = accuracy_score(y_test_c, y_pred_class)\n",
        "precision = precision_score(y_test_c, y_pred_class)\n",
        "recall    = recall_score(y_test_c, y_pred_class)\n",
        "f1        = f1_score(y_test_c, y_pred_class)\n",
        "\n",
        "# Print results\n",
        "print(\"Random Forest Classifier Performance on HasClaim:\")\n",
        "print(f\"Accuracy : {accuracy:.4f}\")\n",
        "print(f\"Precision: {precision:.4f}\")\n",
        "print(f\"Recall   : {recall:.4f}\")\n",
        "print(f\"F1 Score : {f1:.4f}\")\n"
      ],
      "metadata": {
        "colab": {
          "base_uri": "https://localhost:8080/"
        },
        "id": "d_CG_kVeeo91",
        "outputId": "7c054f8d-1c76-40e8-a2d5-b1d39a440437"
      },
      "execution_count": 42,
      "outputs": [
        {
          "output_type": "stream",
          "name": "stdout",
          "text": [
            "Random Forest Classifier Performance on HasClaim:\n",
            "Accuracy : 0.9999\n",
            "Precision: 1.0000\n",
            "Recall   : 0.9652\n",
            "F1 Score : 0.9823\n"
          ]
        }
      ]
    },
    {
      "cell_type": "code",
      "source": [
        "import xgboost as xgb\n",
        "\n",
        "xgb_clf = xgb.XGBClassifier(n_estimators=100, max_depth=6, learning_rate=0.1, random_state=42)\n",
        "xgb_clf.fit(X_train_c, y_train_c)\n",
        "\n",
        "y_pred_xgb = xgb_clf.predict(X_test_c)\n",
        "\n",
        "accuracy_xgb  = accuracy_score(y_test_c, y_pred_xgb)\n",
        "precision_xgb = precision_score(y_test_c, y_pred_xgb)\n",
        "recall_xgb    = recall_score(y_test_c, y_pred_xgb)\n",
        "f1_xgb        = f1_score(y_test_c, y_pred_xgb)\n",
        "\n",
        "print(\"XGBoost Classifier on HasClaim:\")\n",
        "print(f\"Accuracy : {accuracy_xgb:.4f}\")\n",
        "print(f\"Precision: {precision_xgb:.4f}\")\n",
        "print(f\"Recall   : {recall_xgb:.4f}\")\n",
        "print(f\"F1 Score : {f1_xgb:.4f}\")\n"
      ],
      "metadata": {
        "colab": {
          "base_uri": "https://localhost:8080/"
        },
        "id": "eWhEPZmbhQf9",
        "outputId": "d3b84d0f-b294-45a1-8938-fcf92a432139"
      },
      "execution_count": 43,
      "outputs": [
        {
          "output_type": "stream",
          "name": "stdout",
          "text": [
            "XGBoost Classifier on HasClaim:\n",
            "Accuracy : 1.0000\n",
            "Precision: 1.0000\n",
            "Recall   : 1.0000\n",
            "F1 Score : 1.0000\n"
          ]
        }
      ]
    },
    {
      "cell_type": "code",
      "source": [
        "import pandas as pd\n",
        "\n",
        "results = pd.DataFrame({\n",
        "    \"Model\": [\"Logistic Regression\", \"Random Forest\", \"XGBoost\"],\n",
        "    \"Accuracy\": [accuracy_log, accuracy, accuracy_xgb],\n",
        "    \"Precision\": [precision_log, precision, precision_xgb],\n",
        "    \"Recall\": [recall_log, recall, recall_xgb],\n",
        "    \"F1 Score\": [f1_log, f1, f1_xgb]\n",
        "})\n",
        "\n",
        "print(results)\n"
      ],
      "metadata": {
        "colab": {
          "base_uri": "https://localhost:8080/"
        },
        "id": "3HiP940ehU2G",
        "outputId": "57a59208-e06d-429d-856c-ee39c8d9416a"
      },
      "execution_count": 55,
      "outputs": [
        {
          "output_type": "stream",
          "name": "stdout",
          "text": [
            "                 Model  Accuracy  Precision    Recall  F1 Score\n",
            "0  Logistic Regression  0.999909        1.0  0.965217  0.982301\n",
            "1        Random Forest  0.999909        1.0  0.965217  0.982301\n",
            "2              XGBoost  1.000000        1.0  1.000000  1.000000\n"
          ]
        }
      ]
    },
    {
      "cell_type": "code",
      "source": [
        "import pandas as pd\n",
        "import matplotlib.pyplot as plt\n",
        "\n",
        "# Data\n",
        "results = pd.DataFrame({\n",
        "    \"Model\": [\"Logistic Regression\", \"Random Forest\", \"XGBoost\"],\n",
        "    \"Accuracy\": [0.999909, 0.999909, 1.0],\n",
        "    \"Precision\": [1.0, 1.0, 1.0],\n",
        "    \"Recall\": [0.965217, 0.965217, 1.0],\n",
        "    \"F1 Score\": [0.982301, 0.982301, 1.0]\n",
        "})\n",
        "\n",
        "# Set index\n",
        "results.set_index(\"Model\", inplace=True)\n",
        "\n",
        "# Plot\n",
        "results.plot(kind='bar', figsize=(10, 6))\n",
        "plt.title(\"Model Performance Comparison\")\n",
        "plt.ylabel(\"Score\")\n",
        "plt.ylim(0.9, 1.05)\n",
        "plt.xticks(rotation=45)\n",
        "plt.grid(axis='y', linestyle='--', alpha=0.7)\n",
        "plt.tight_layout()\n",
        "\n",
        "plt.show()\n"
      ],
      "metadata": {
        "colab": {
          "base_uri": "https://localhost:8080/",
          "height": 607
        },
        "id": "W3dE4vVauBnG",
        "outputId": "3755644e-fe9f-4add-8dc1-b12631bcefb3"
      },
      "execution_count": 64,
      "outputs": [
        {
          "output_type": "display_data",
          "data": {
            "text/plain": [
              "<Figure size 1000x600 with 1 Axes>"
            ],
            "image/png": "[encoded data removed]"
          },
          "metadata": {}
        }
      ]
    },
    {
      "cell_type": "code",
      "source": [
        "predicted_severity = rf_severity.predict(df_model_ready)  # TotalClaims regressor\n"
      ],
      "metadata": {
        "id": "aHCIiGu4UvLt"
      },
      "execution_count": 56,
      "outputs": []
    },
    {
      "cell_type": "code",
      "source": [
        "expense_loading = 200  # fixed cost per policy\n",
        "profit_margin = 0.15   # 15% margin\n"
      ],
      "metadata": {
        "id": "4Hw-H-sWU6sF"
      },
      "execution_count": 57,
      "outputs": []
    },
    {
      "cell_type": "code",
      "source": [
        "risk_based_premium = (prob_claim * predicted_severity) * (1 + profit_margin) + expense_loading\n"
      ],
      "metadata": {
        "id": "c5iN2QpPU8tJ"
      },
      "execution_count": 58,
      "outputs": []
    },
    {
      "cell_type": "code",
      "source": [
        "comparison = pd.DataFrame({\n",
        "    'HistoricalPremium': df['CalculatedPremiumPerTerm'],\n",
        "    'OptimizedPremium': risk_based_premium\n",
        "})\n"
      ],
      "metadata": {
        "id": "tF21XW7LrCeV"
      },
      "execution_count": 59,
      "outputs": []
    },
    {
      "cell_type": "code",
      "source": [
        "comparison[['HistoricalPremium', 'OptimizedPremium']].describe()\n"
      ],
      "metadata": {
        "colab": {
          "base_uri": "https://localhost:8080/",
          "height": 300
        },
        "id": "SYJQM5Y-XIL8",
        "outputId": "5b9f6cc8-48bb-40ea-d30f-5ed818f9af04"
      },
      "execution_count": 98,
      "outputs": [
        {
          "output_type": "execute_result",
          "data": {
            "text/plain": [
              "       HistoricalPremium  OptimizedPremium\n",
              "count      220456.000000     220456.000000\n",
              "mean          127.040147        267.974523\n",
              "std           241.532449       2216.337323\n",
              "min             0.000000        200.703456\n",
              "25%             3.501300        201.588325\n",
              "50%             8.916100        202.095995\n",
              "75%            90.000000        202.841651\n",
              "max          3051.821100     290726.527104"
            ],
            "text/html": [
              "\n",
              "  <div id=\"df-3bcaffcb-1770-4b01-a9c2-c6c2346bcbe9\" class=\"colab-df-container\">\n",
              "    <div>\n",
              "<style scoped>\n",
              "    .dataframe tbody tr th:only-of-type {\n",
              "        vertical-align: middle;\n",
              "    }\n",
              "\n",
              "    .dataframe tbody tr th {\n",
              "        vertical-align: top;\n",
              "    }\n",
              "\n",
              "    .dataframe thead th {\n",
              "        text-align: right;\n",
              "    }\n",
              "</style>\n",
              "<table border=\"1\" class=\"dataframe\">\n",
              "  <thead>\n",
              "    <tr style=\"text-align: right;\">\n",
              "      <th></th>\n",
              "      <th>HistoricalPremium</th>\n",
              "      <th>OptimizedPremium</th>\n",
              "    </tr>\n",
              "  </thead>\n",
              "  <tbody>\n",
              "    <tr>\n",
              "      <th>count</th>\n",
              "      <td>220456.000000</td>\n",
              "      <td>220456.000000</td>\n",
              "    </tr>\n",
              "    <tr>\n",
              "      <th>mean</th>\n",
              "      <td>127.040147</td>\n",
              "      <td>267.974523</td>\n",
              "    </tr>\n",
              "    <tr>\n",
              "      <th>std</th>\n",
              "      <td>241.532449</td>\n",
              "      <td>2216.337323</td>\n",
              "    </tr>\n",
              "    <tr>\n",
              "      <th>min</th>\n",
              "      <td>0.000000</td>\n",
              "      <td>200.703456</td>\n",
              "    </tr>\n",
              "    <tr>\n",
              "      <th>25%</th>\n",
              "      <td>3.501300</td>\n",
              "      <td>201.588325</td>\n",
              "    </tr>\n",
              "    <tr>\n",
              "      <th>50%</th>\n",
              "      <td>8.916100</td>\n",
              "      <td>202.095995</td>\n",
              "    </tr>\n",
              "    <tr>\n",
              "      <th>75%</th>\n",
              "      <td>90.000000</td>\n",
              "      <td>202.841651</td>\n",
              "    </tr>\n",
              "    <tr>\n",
              "      <th>max</th>\n",
              "      <td>3051.821100</td>\n",
              "      <td>290726.527104</td>\n",
              "    </tr>\n",
              "  </tbody>\n",
              "</table>\n",
              "</div>\n",
              "    <div class=\"colab-df-buttons\">\n",
              "\n",
              "  <div class=\"colab-df-container\">\n",
              "    <button class=\"colab-df-convert\" onclick=\"convertToInteractive('df-3bcaffcb-1770-4b01-a9c2-c6c2346bcbe9')\"\n",
              "            title=\"Convert this dataframe to an interactive table.\"\n",
              "            style=\"display:none;\">\n",
              "\n",
              "  <svg xmlns=\"http://www.w3.org/2000/svg\" height=\"24px\" viewBox=\"0 -960 960 960\">\n",
              "    <path d=\"M120-120v-720h720v720H120Zm60-500h600v-160H180v160Zm220 220h160v-160H400v160Zm0 220h160v-160H400v160ZM180-400h160v-160H180v160Zm440 0h160v-160H620v160ZM180-180h160v-160H180v160Zm440 0h160v-160H620v160Z\"/>\n",
              "  </svg>\n",
              "    </button>\n",
              "\n",
              "  <style>\n",
              "    .colab-df-container {\n",
              "      display:flex;\n",
              "      gap: 12px;\n",
              "    }\n",
              "\n",
              "    .colab-df-convert {\n",
              "      background-color: #E8F0FE;\n",
              "      border: none;\n",
              "      border-radius: 50%;\n",
              "      cursor: pointer;\n",
              "      display: none;\n",
              "      fill: #1967D2;\n",
              "      height: 32px;\n",
              "      padding: 0 0 0 0;\n",
              "      width: 32px;\n",
              "    }\n",
              "\n",
              "    .colab-df-convert:hover {\n",
              "      background-color: #E2EBFA;\n",
              "      box-shadow: 0px 1px 2px rgba(60, 64, 67, 0.3), 0px 1px 3px 1px rgba(60, 64, 67, 0.15);\n",
              "      fill: #174EA6;\n",
              "    }\n",
              "\n",
              "    .colab-df-buttons div {\n",
              "      margin-bottom: 4px;\n",
              "    }\n",
              "\n",
              "    [theme=dark] .colab-df-convert {\n",
              "      background-color: #3B4455;\n",
              "      fill: #D2E3FC;\n",
              "    }\n",
              "\n",
              "    [theme=dark] .colab-df-convert:hover {\n",
              "      background-color: #434B5C;\n",
              "      box-shadow: 0px 1px 3px 1px rgba(0, 0, 0, 0.15);\n",
              "      filter: drop-shadow(0px 1px 2px rgba(0, 0, 0, 0.3));\n",
              "      fill: #FFFFFF;\n",
              "    }\n",
              "  </style>\n",
              "\n",
              "    <script>\n",
              "      const buttonEl =\n",
              "        document.querySelector('#df-3bcaffcb-1770-4b01-a9c2-c6c2346bcbe9 button.colab-df-convert');\n",
              "      buttonEl.style.display =\n",
              "        google.colab.kernel.accessAllowed ? 'block' : 'none';\n",
              "\n",
              "      async function convertToInteractive(key) {\n",
              "        const element = document.querySelector('#df-3bcaffcb-1770-4b01-a9c2-c6c2346bcbe9');\n",
              "        const dataTable =\n",
              "          await google.colab.kernel.invokeFunction('convertToInteractive',\n",
              "                                                    [key], {});\n",
              "        if (!dataTable) return;\n",
              "\n",
              "        const docLinkHtml = 'Like what you see? Visit the ' +\n",
              "          '<a target=\"_blank\" href=https://colab.research.google.com/notebooks/data_table.ipynb>data table notebook</a>'\n",
              "          + ' to learn more about interactive tables.';\n",
              "        element.innerHTML = '';\n",
              "        dataTable['output_type'] = 'display_data';\n",
              "        await google.colab.output.renderOutput(dataTable, element);\n",
              "        const docLink = document.createElement('div');\n",
              "        docLink.innerHTML = docLinkHtml;\n",
              "        element.appendChild(docLink);\n",
              "      }\n",
              "    </script>\n",
              "  </div>\n",
              "\n",
              "\n",
              "    <div id=\"df-995964c2-dfc5-4ccf-822e-6739426c54b4\">\n",
              "      <button class=\"colab-df-quickchart\" onclick=\"quickchart('df-995964c2-dfc5-4ccf-822e-6739426c54b4')\"\n",
              "                title=\"Suggest charts\"\n",
              "                style=\"display:none;\">\n",
              "\n",
              "<svg xmlns=\"http://www.w3.org/2000/svg\" height=\"24px\"viewBox=\"0 0 24 24\"\n",
              "     width=\"24px\">\n",
              "    <g>\n",
              "        <path d=\"M19 3H5c-1.1 0-2 .9-2 2v14c0 1.1.9 2 2 2h14c1.1 0 2-.9 2-2V5c0-1.1-.9-2-2-2zM9 17H7v-7h2v7zm4 0h-2V7h2v10zm4 0h-2v-4h2v4z\"/>\n",
              "    </g>\n",
              "</svg>\n",
              "      </button>\n",
              "\n",
              "<style>\n",
              "  .colab-df-quickchart {\n",
              "      --bg-color: #E8F0FE;\n",
              "      --fill-color: #1967D2;\n",
              "      --hover-bg-color: #E2EBFA;\n",
              "      --hover-fill-color: #174EA6;\n",
              "      --disabled-fill-color: #AAA;\n",
              "      --disabled-bg-color: #DDD;\n",
              "  }\n",
              "\n",
              "  [theme=dark] .colab-df-quickchart {\n",
              "      --bg-color: #3B4455;\n",
              "      --fill-color: #D2E3FC;\n",
              "      --hover-bg-color: #434B5C;\n",
              "      --hover-fill-color: #FFFFFF;\n",
              "      --disabled-bg-color: #3B4455;\n",
              "      --disabled-fill-color: #666;\n",
              "  }\n",
              "\n",
              "  .colab-df-quickchart {\n",
              "    background-color: var(--bg-color);\n",
              "    border: none;\n",
              "    border-radius: 50%;\n",
              "    cursor: pointer;\n",
              "    display: none;\n",
              "    fill: var(--fill-color);\n",
              "    height: 32px;\n",
              "    padding: 0;\n",
              "    width: 32px;\n",
              "  }\n",
              "\n",
              "  .colab-df-quickchart:hover {\n",
              "    background-color: var(--hover-bg-color);\n",
              "    box-shadow: 0 1px 2px rgba(60, 64, 67, 0.3), 0 1px 3px 1px rgba(60, 64, 67, 0.15);\n",
              "    fill: var(--button-hover-fill-color);\n",
              "  }\n",
              "\n",
              "  .colab-df-quickchart-complete:disabled,\n",
              "  .colab-df-quickchart-complete:disabled:hover {\n",
              "    background-color: var(--disabled-bg-color);\n",
              "    fill: var(--disabled-fill-color);\n",
              "    box-shadow: none;\n",
              "  }\n",
              "\n",
              "  .colab-df-spinner {\n",
              "    border: 2px solid var(--fill-color);\n",
              "    border-color: transparent;\n",
              "    border-bottom-color: var(--fill-color);\n",
              "    animation:\n",
              "      spin 1s steps(1) infinite;\n",
              "  }\n",
              "\n",
              "  @keyframes spin {\n",
              "    0% {\n",
              "      border-color: transparent;\n",
              "      border-bottom-color: var(--fill-color);\n",
              "      border-left-color: var(--fill-color);\n",
              "    }\n",
              "    20% {\n",
              "      border-color: transparent;\n",
              "      border-left-color: var(--fill-color);\n",
              "      border-top-color: var(--fill-color);\n",
              "    }\n",
              "    30% {\n",
              "      border-color: transparent;\n",
              "      border-left-color: var(--fill-color);\n",
              "      border-top-color: var(--fill-color);\n",
              "      border-right-color: var(--fill-color);\n",
              "    }\n",
              "    40% {\n",
              "      border-color: transparent;\n",
              "      border-right-color: var(--fill-color);\n",
              "      border-top-color: var(--fill-color);\n",
              "    }\n",
              "    60% {\n",
              "      border-color: transparent;\n",
              "      border-right-color: var(--fill-color);\n",
              "    }\n",
              "    80% {\n",
              "      border-color: transparent;\n",
              "      border-right-color: var(--fill-color);\n",
              "      border-bottom-color: var(--fill-color);\n",
              "    }\n",
              "    90% {\n",
              "      border-color: transparent;\n",
              "      border-bottom-color: var(--fill-color);\n",
              "    }\n",
              "  }\n",
              "</style>\n",
              "\n",
              "      <script>\n",
              "        async function quickchart(key) {\n",
              "          const quickchartButtonEl =\n",
              "            document.querySelector('#' + key + ' button');\n",
              "          quickchartButtonEl.disabled = true;  // To prevent multiple clicks.\n",
              "          quickchartButtonEl.classList.add('colab-df-spinner');\n",
              "          try {\n",
              "            const charts = await google.colab.kernel.invokeFunction(\n",
              "                'suggestCharts', [key], {});\n",
              "          } catch (error) {\n",
              "            console.error('Error during call to suggestCharts:', error);\n",
              "          }\n",
              "          quickchartButtonEl.classList.remove('colab-df-spinner');\n",
              "          quickchartButtonEl.classList.add('colab-df-quickchart-complete');\n",
              "        }\n",
              "        (() => {\n",
              "          let quickchartButtonEl =\n",
              "            document.querySelector('#df-995964c2-dfc5-4ccf-822e-6739426c54b4 button');\n",
              "          quickchartButtonEl.style.display =\n",
              "            google.colab.kernel.accessAllowed ? 'block' : 'none';\n",
              "        })();\n",
              "      </script>\n",
              "    </div>\n",
              "\n",
              "    </div>\n",
              "  </div>\n"
            ],
            "application/vnd.google.colaboratory.intrinsic+json": {
              "type": "dataframe",
              "summary": "{\n  \"name\": \"comparison[['HistoricalPremium', 'OptimizedPremium']]\",\n  \"rows\": 8,\n  \"fields\": [\n    {\n      \"column\": \"HistoricalPremium\",\n      \"properties\": {\n        \"dtype\": \"number\",\n        \"std\": 77772.03935628585,\n        \"min\": 0.0,\n        \"max\": 220456.0,\n        \"num_unique_values\": 8,\n        \"samples\": [\n          127.04014655350726,\n          8.9161,\n          220456.0\n        ],\n        \"semantic_type\": \"\",\n        \"description\": \"\"\n      }\n    },\n    {\n      \"column\": \"OptimizedPremium\",\n      \"properties\": {\n        \"dtype\": \"number\",\n        \"std\": 119548.23443037318,\n        \"min\": 200.70345551063892,\n        \"max\": 290726.5271044988,\n        \"num_unique_values\": 8,\n        \"samples\": [\n          267.9745228559495,\n          202.0959954586835,\n          220456.0\n        ],\n        \"semantic_type\": \"\",\n        \"description\": \"\"\n      }\n    }\n  ]\n}"
            }
          },
          "metadata": {},
          "execution_count": 98
        }
      ]
    },
    {
      "source": [
        "from matplotlib import pyplot as plt\n",
        "_df_1['OptimizedPremium'].plot(kind='hist', bins=20, title='OptimizedPremium')\n",
        "plt.gca().spines[['top', 'right',]].set_visible(False)"
      ],
      "cell_type": "code",
      "metadata": {
        "colab": {
          "base_uri": "https://localhost:8080/",
          "height": 452
        },
        "id": "cincZoARaN-K",
        "outputId": "caa90728-c420-4398-b3c4-e215ce44a6b3"
      },
      "execution_count": 97,
      "outputs": [
        {
          "output_type": "display_data",
          "data": {
            "text/plain": [
              "<Figure size 640x480 with 1 Axes>"
            ],
            "image/png": "[encoded data removed]"
          },
          "metadata": {}
        }
      ]
    },
    {
      "cell_type": "code",
      "source": [
        "import seaborn as sns\n",
        "import matplotlib.pyplot as plt\n",
        "\n",
        "melted = comparison[['HistoricalPremium', 'OptimizedPremium']].melt()\n",
        "sns.boxplot(data=melted, x='variable', y='value')\n",
        "plt.title(\"Premium Distribution: Historical vs. Optimized\")\n",
        "plt.show()\n"
      ],
      "metadata": {
        "colab": {
          "base_uri": "https://localhost:8080/",
          "height": 472
        },
        "id": "Nol8C6vWXQMA",
        "outputId": "71b19272-9c74-40b2-bf2b-c56810d86531"
      },
      "execution_count": 61,
      "outputs": [
        {
          "output_type": "display_data",
          "data": {
            "text/plain": [
              "<Figure size 640x480 with 1 Axes>"
            ],
            "image/png": "[encoded data removed]"
          },
          "metadata": {}
        }
      ]
    },
    {
      "cell_type": "code",
      "source": [
        "plt.figure(figsize=(8, 5))\n",
        "plt.hist(comparison['HistoricalPremium'], bins=50, alpha=0.5, label='Historical', range=(0, 1000))\n",
        "plt.hist(comparison['OptimizedPremium'], bins=50, alpha=0.5, label='Optimized', range=(0, 1000))\n",
        "plt.legend()\n",
        "plt.title('Distribution of Premiums (Zoomed In)')\n",
        "plt.xlabel('Premium Amount')\n",
        "plt.ylabel('Number of Policies')\n",
        "plt.grid(axis='y')\n",
        "plt.show()\n",
        "\n"
      ],
      "metadata": {
        "colab": {
          "base_uri": "https://localhost:8080/",
          "height": 487
        },
        "id": "yESQypHBXjfv",
        "outputId": "87d8ec0b-37d5-411e-9951-1680c556e569"
      },
      "execution_count": 62,
      "outputs": [
        {
          "output_type": "display_data",
          "data": {
            "text/plain": [
              "<Figure size 800x500 with 1 Axes>"
            ],
            "image/png": "[encoded data removed]"
          },
          "metadata": {}
        }
      ]
    },
    {
      "cell_type": "code",
      "source": [
        "import shap\n",
        "\n",
        "# SHAP expects data in DataFrame format with proper feature names\n",
        "sample_data = X_train_c.sample(200, random_state=42)\n",
        "\n",
        "# Use SHAP TreeExplainer for XGBoost\n",
        "explainer = shap.TreeExplainer(xgb_clf)\n",
        "shap_values = explainer.shap_values(sample_data)\n",
        "\n",
        "# SHAP summary plot\n",
        "shap.summary_plot(shap_values, sample_data, plot_type=\"bar\")\n"
      ],
      "metadata": {
        "colab": {
          "base_uri": "https://localhost:8080/",
          "height": 957
        },
        "id": "Cf2kPauBCq8W",
        "outputId": "33302530-f482-49eb-9c7c-19f091117429"
      },
      "execution_count": 69,
      "outputs": [
        {
          "output_type": "display_data",
          "data": {
            "text/plain": [
              "<Figure size 800x950 with 1 Axes>"
            ],
            "image/png": "[encoded data removed]"
          },
          "metadata": {}
        }
      ]
    }
  ]
}